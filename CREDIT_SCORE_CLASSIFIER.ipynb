{
  "cells": [
    {
      "cell_type": "code",
      "execution_count": 4,
      "metadata": {
        "id": "IJv-97ay0GsU"
      },
      "outputs": [],
      "source": [
        "import pandas as pd\n",
        "import numpy as np\n",
        "import matplotlib.pyplot as plt\n",
        "%matplotlib inline\n",
        "pd.set_option('display.max_column', None)\n",
        "pd.set_option('display.max_rows', None)\n",
        "import seaborn as sns"
      ]
    },
    {
      "cell_type": "code",
      "source": [
        "!gdown 1Yf8MD_iCX-kjHLCOKTpczjO_ztS0QZVT"
      ],
      "metadata": {
        "colab": {
          "base_uri": "https://localhost:8080/"
        },
        "id": "s7NI3Mt1dye1",
        "outputId": "c2f2dcad-6d90-4e43-d92a-1de524ab0601"
      },
      "execution_count": 5,
      "outputs": [
        {
          "output_type": "stream",
          "name": "stdout",
          "text": [
            "Downloading...\n",
            "From: https://drive.google.com/uc?id=1Yf8MD_iCX-kjHLCOKTpczjO_ztS0QZVT\n",
            "To: /content/train.csv\n",
            "100% 30.8M/30.8M [00:00<00:00, 39.2MB/s]\n"
          ]
        }
      ]
    },
    {
      "cell_type": "code",
      "execution_count": 6,
      "metadata": {
        "id": "foNWOWCD09Hy"
      },
      "outputs": [],
      "source": [
        "df=pd.read_csv(\"/content/train.csv\")"
      ]
    },
    {
      "cell_type": "code",
      "execution_count": 7,
      "metadata": {
        "colab": {
          "base_uri": "https://localhost:8080/",
          "height": 531
        },
        "id": "zVRPMKCZ1Tjp",
        "outputId": "87bfed68-e91d-432b-f211-bdd7fd0aceda"
      },
      "outputs": [
        {
          "output_type": "execute_result",
          "data": {
            "text/plain": [
              "     ID  Customer_ID  Month           Name   Age          SSN Occupation  \\\n",
              "0  5634         3392      1  Aaron Maashoh  23.0  821000265.0  Scientist   \n",
              "1  5635         3392      2  Aaron Maashoh  23.0  821000265.0  Scientist   \n",
              "2  5636         3392      3  Aaron Maashoh  23.0  821000265.0  Scientist   \n",
              "3  5637         3392      4  Aaron Maashoh  23.0  821000265.0  Scientist   \n",
              "4  5638         3392      5  Aaron Maashoh  23.0  821000265.0  Scientist   \n",
              "\n",
              "   Annual_Income  Monthly_Inhand_Salary  Num_Bank_Accounts  Num_Credit_Card  \\\n",
              "0       19114.12            1824.843333                3.0              4.0   \n",
              "1       19114.12            1824.843333                3.0              4.0   \n",
              "2       19114.12            1824.843333                3.0              4.0   \n",
              "3       19114.12            1824.843333                3.0              4.0   \n",
              "4       19114.12            1824.843333                3.0              4.0   \n",
              "\n",
              "   Interest_Rate  Num_of_Loan  \\\n",
              "0            3.0          4.0   \n",
              "1            3.0          4.0   \n",
              "2            3.0          4.0   \n",
              "3            3.0          4.0   \n",
              "4            3.0          4.0   \n",
              "\n",
              "                                        Type_of_Loan  Delay_from_due_date  \\\n",
              "0  Auto Loan, Credit-Builder Loan, Personal Loan,...                  3.0   \n",
              "1  Auto Loan, Credit-Builder Loan, Personal Loan,...                  3.0   \n",
              "2  Auto Loan, Credit-Builder Loan, Personal Loan,...                  3.0   \n",
              "3  Auto Loan, Credit-Builder Loan, Personal Loan,...                  5.0   \n",
              "4  Auto Loan, Credit-Builder Loan, Personal Loan,...                  6.0   \n",
              "\n",
              "   Num_of_Delayed_Payment  Changed_Credit_Limit  Num_Credit_Inquiries  \\\n",
              "0                     7.0                 11.27                   4.0   \n",
              "1                     4.0                 11.27                   4.0   \n",
              "2                     7.0                 11.27                   4.0   \n",
              "3                     4.0                  6.27                   4.0   \n",
              "4                     4.0                 11.27                   4.0   \n",
              "\n",
              "  Credit_Mix  Outstanding_Debt  Credit_Utilization_Ratio  Credit_History_Age  \\\n",
              "0       Good            809.98                 26.822620               265.0   \n",
              "1       Good            809.98                 31.944960               266.0   \n",
              "2       Good            809.98                 28.609352               267.0   \n",
              "3       Good            809.98                 31.377862               268.0   \n",
              "4       Good            809.98                 24.797347               269.0   \n",
              "\n",
              "  Payment_of_Min_Amount  Total_EMI_per_month  Amount_invested_monthly  \\\n",
              "0                    No            49.574949                 21.46538   \n",
              "1                    No            49.574949                 21.46538   \n",
              "2                    No            49.574949                 21.46538   \n",
              "3                    No            49.574949                 21.46538   \n",
              "4                    No            49.574949                 21.46538   \n",
              "\n",
              "                  Payment_Behaviour  Monthly_Balance Credit_Score  \n",
              "0   High_spent_Small_value_payments       312.494089         Good  \n",
              "1    Low_spent_Large_value_payments       284.629162         Good  \n",
              "2   Low_spent_Medium_value_payments       331.209863         Good  \n",
              "3    Low_spent_Small_value_payments       223.451310         Good  \n",
              "4  High_spent_Medium_value_payments       341.489231         Good  "
            ],
            "text/html": [
              "\n",
              "  <div id=\"df-f8269e73-2e1f-480b-8b60-fcd3f60d021b\">\n",
              "    <div class=\"colab-df-container\">\n",
              "      <div>\n",
              "<style scoped>\n",
              "    .dataframe tbody tr th:only-of-type {\n",
              "        vertical-align: middle;\n",
              "    }\n",
              "\n",
              "    .dataframe tbody tr th {\n",
              "        vertical-align: top;\n",
              "    }\n",
              "\n",
              "    .dataframe thead th {\n",
              "        text-align: right;\n",
              "    }\n",
              "</style>\n",
              "<table border=\"1\" class=\"dataframe\">\n",
              "  <thead>\n",
              "    <tr style=\"text-align: right;\">\n",
              "      <th></th>\n",
              "      <th>ID</th>\n",
              "      <th>Customer_ID</th>\n",
              "      <th>Month</th>\n",
              "      <th>Name</th>\n",
              "      <th>Age</th>\n",
              "      <th>SSN</th>\n",
              "      <th>Occupation</th>\n",
              "      <th>Annual_Income</th>\n",
              "      <th>Monthly_Inhand_Salary</th>\n",
              "      <th>Num_Bank_Accounts</th>\n",
              "      <th>Num_Credit_Card</th>\n",
              "      <th>Interest_Rate</th>\n",
              "      <th>Num_of_Loan</th>\n",
              "      <th>Type_of_Loan</th>\n",
              "      <th>Delay_from_due_date</th>\n",
              "      <th>Num_of_Delayed_Payment</th>\n",
              "      <th>Changed_Credit_Limit</th>\n",
              "      <th>Num_Credit_Inquiries</th>\n",
              "      <th>Credit_Mix</th>\n",
              "      <th>Outstanding_Debt</th>\n",
              "      <th>Credit_Utilization_Ratio</th>\n",
              "      <th>Credit_History_Age</th>\n",
              "      <th>Payment_of_Min_Amount</th>\n",
              "      <th>Total_EMI_per_month</th>\n",
              "      <th>Amount_invested_monthly</th>\n",
              "      <th>Payment_Behaviour</th>\n",
              "      <th>Monthly_Balance</th>\n",
              "      <th>Credit_Score</th>\n",
              "    </tr>\n",
              "  </thead>\n",
              "  <tbody>\n",
              "    <tr>\n",
              "      <th>0</th>\n",
              "      <td>5634</td>\n",
              "      <td>3392</td>\n",
              "      <td>1</td>\n",
              "      <td>Aaron Maashoh</td>\n",
              "      <td>23.0</td>\n",
              "      <td>821000265.0</td>\n",
              "      <td>Scientist</td>\n",
              "      <td>19114.12</td>\n",
              "      <td>1824.843333</td>\n",
              "      <td>3.0</td>\n",
              "      <td>4.0</td>\n",
              "      <td>3.0</td>\n",
              "      <td>4.0</td>\n",
              "      <td>Auto Loan, Credit-Builder Loan, Personal Loan,...</td>\n",
              "      <td>3.0</td>\n",
              "      <td>7.0</td>\n",
              "      <td>11.27</td>\n",
              "      <td>4.0</td>\n",
              "      <td>Good</td>\n",
              "      <td>809.98</td>\n",
              "      <td>26.822620</td>\n",
              "      <td>265.0</td>\n",
              "      <td>No</td>\n",
              "      <td>49.574949</td>\n",
              "      <td>21.46538</td>\n",
              "      <td>High_spent_Small_value_payments</td>\n",
              "      <td>312.494089</td>\n",
              "      <td>Good</td>\n",
              "    </tr>\n",
              "    <tr>\n",
              "      <th>1</th>\n",
              "      <td>5635</td>\n",
              "      <td>3392</td>\n",
              "      <td>2</td>\n",
              "      <td>Aaron Maashoh</td>\n",
              "      <td>23.0</td>\n",
              "      <td>821000265.0</td>\n",
              "      <td>Scientist</td>\n",
              "      <td>19114.12</td>\n",
              "      <td>1824.843333</td>\n",
              "      <td>3.0</td>\n",
              "      <td>4.0</td>\n",
              "      <td>3.0</td>\n",
              "      <td>4.0</td>\n",
              "      <td>Auto Loan, Credit-Builder Loan, Personal Loan,...</td>\n",
              "      <td>3.0</td>\n",
              "      <td>4.0</td>\n",
              "      <td>11.27</td>\n",
              "      <td>4.0</td>\n",
              "      <td>Good</td>\n",
              "      <td>809.98</td>\n",
              "      <td>31.944960</td>\n",
              "      <td>266.0</td>\n",
              "      <td>No</td>\n",
              "      <td>49.574949</td>\n",
              "      <td>21.46538</td>\n",
              "      <td>Low_spent_Large_value_payments</td>\n",
              "      <td>284.629162</td>\n",
              "      <td>Good</td>\n",
              "    </tr>\n",
              "    <tr>\n",
              "      <th>2</th>\n",
              "      <td>5636</td>\n",
              "      <td>3392</td>\n",
              "      <td>3</td>\n",
              "      <td>Aaron Maashoh</td>\n",
              "      <td>23.0</td>\n",
              "      <td>821000265.0</td>\n",
              "      <td>Scientist</td>\n",
              "      <td>19114.12</td>\n",
              "      <td>1824.843333</td>\n",
              "      <td>3.0</td>\n",
              "      <td>4.0</td>\n",
              "      <td>3.0</td>\n",
              "      <td>4.0</td>\n",
              "      <td>Auto Loan, Credit-Builder Loan, Personal Loan,...</td>\n",
              "      <td>3.0</td>\n",
              "      <td>7.0</td>\n",
              "      <td>11.27</td>\n",
              "      <td>4.0</td>\n",
              "      <td>Good</td>\n",
              "      <td>809.98</td>\n",
              "      <td>28.609352</td>\n",
              "      <td>267.0</td>\n",
              "      <td>No</td>\n",
              "      <td>49.574949</td>\n",
              "      <td>21.46538</td>\n",
              "      <td>Low_spent_Medium_value_payments</td>\n",
              "      <td>331.209863</td>\n",
              "      <td>Good</td>\n",
              "    </tr>\n",
              "    <tr>\n",
              "      <th>3</th>\n",
              "      <td>5637</td>\n",
              "      <td>3392</td>\n",
              "      <td>4</td>\n",
              "      <td>Aaron Maashoh</td>\n",
              "      <td>23.0</td>\n",
              "      <td>821000265.0</td>\n",
              "      <td>Scientist</td>\n",
              "      <td>19114.12</td>\n",
              "      <td>1824.843333</td>\n",
              "      <td>3.0</td>\n",
              "      <td>4.0</td>\n",
              "      <td>3.0</td>\n",
              "      <td>4.0</td>\n",
              "      <td>Auto Loan, Credit-Builder Loan, Personal Loan,...</td>\n",
              "      <td>5.0</td>\n",
              "      <td>4.0</td>\n",
              "      <td>6.27</td>\n",
              "      <td>4.0</td>\n",
              "      <td>Good</td>\n",
              "      <td>809.98</td>\n",
              "      <td>31.377862</td>\n",
              "      <td>268.0</td>\n",
              "      <td>No</td>\n",
              "      <td>49.574949</td>\n",
              "      <td>21.46538</td>\n",
              "      <td>Low_spent_Small_value_payments</td>\n",
              "      <td>223.451310</td>\n",
              "      <td>Good</td>\n",
              "    </tr>\n",
              "    <tr>\n",
              "      <th>4</th>\n",
              "      <td>5638</td>\n",
              "      <td>3392</td>\n",
              "      <td>5</td>\n",
              "      <td>Aaron Maashoh</td>\n",
              "      <td>23.0</td>\n",
              "      <td>821000265.0</td>\n",
              "      <td>Scientist</td>\n",
              "      <td>19114.12</td>\n",
              "      <td>1824.843333</td>\n",
              "      <td>3.0</td>\n",
              "      <td>4.0</td>\n",
              "      <td>3.0</td>\n",
              "      <td>4.0</td>\n",
              "      <td>Auto Loan, Credit-Builder Loan, Personal Loan,...</td>\n",
              "      <td>6.0</td>\n",
              "      <td>4.0</td>\n",
              "      <td>11.27</td>\n",
              "      <td>4.0</td>\n",
              "      <td>Good</td>\n",
              "      <td>809.98</td>\n",
              "      <td>24.797347</td>\n",
              "      <td>269.0</td>\n",
              "      <td>No</td>\n",
              "      <td>49.574949</td>\n",
              "      <td>21.46538</td>\n",
              "      <td>High_spent_Medium_value_payments</td>\n",
              "      <td>341.489231</td>\n",
              "      <td>Good</td>\n",
              "    </tr>\n",
              "  </tbody>\n",
              "</table>\n",
              "</div>\n",
              "      <button class=\"colab-df-convert\" onclick=\"convertToInteractive('df-f8269e73-2e1f-480b-8b60-fcd3f60d021b')\"\n",
              "              title=\"Convert this dataframe to an interactive table.\"\n",
              "              style=\"display:none;\">\n",
              "        \n",
              "  <svg xmlns=\"http://www.w3.org/2000/svg\" height=\"24px\"viewBox=\"0 0 24 24\"\n",
              "       width=\"24px\">\n",
              "    <path d=\"M0 0h24v24H0V0z\" fill=\"none\"/>\n",
              "    <path d=\"M18.56 5.44l.94 2.06.94-2.06 2.06-.94-2.06-.94-.94-2.06-.94 2.06-2.06.94zm-11 1L8.5 8.5l.94-2.06 2.06-.94-2.06-.94L8.5 2.5l-.94 2.06-2.06.94zm10 10l.94 2.06.94-2.06 2.06-.94-2.06-.94-.94-2.06-.94 2.06-2.06.94z\"/><path d=\"M17.41 7.96l-1.37-1.37c-.4-.4-.92-.59-1.43-.59-.52 0-1.04.2-1.43.59L10.3 9.45l-7.72 7.72c-.78.78-.78 2.05 0 2.83L4 21.41c.39.39.9.59 1.41.59.51 0 1.02-.2 1.41-.59l7.78-7.78 2.81-2.81c.8-.78.8-2.07 0-2.86zM5.41 20L4 18.59l7.72-7.72 1.47 1.35L5.41 20z\"/>\n",
              "  </svg>\n",
              "      </button>\n",
              "      \n",
              "  <style>\n",
              "    .colab-df-container {\n",
              "      display:flex;\n",
              "      flex-wrap:wrap;\n",
              "      gap: 12px;\n",
              "    }\n",
              "\n",
              "    .colab-df-convert {\n",
              "      background-color: #E8F0FE;\n",
              "      border: none;\n",
              "      border-radius: 50%;\n",
              "      cursor: pointer;\n",
              "      display: none;\n",
              "      fill: #1967D2;\n",
              "      height: 32px;\n",
              "      padding: 0 0 0 0;\n",
              "      width: 32px;\n",
              "    }\n",
              "\n",
              "    .colab-df-convert:hover {\n",
              "      background-color: #E2EBFA;\n",
              "      box-shadow: 0px 1px 2px rgba(60, 64, 67, 0.3), 0px 1px 3px 1px rgba(60, 64, 67, 0.15);\n",
              "      fill: #174EA6;\n",
              "    }\n",
              "\n",
              "    [theme=dark] .colab-df-convert {\n",
              "      background-color: #3B4455;\n",
              "      fill: #D2E3FC;\n",
              "    }\n",
              "\n",
              "    [theme=dark] .colab-df-convert:hover {\n",
              "      background-color: #434B5C;\n",
              "      box-shadow: 0px 1px 3px 1px rgba(0, 0, 0, 0.15);\n",
              "      filter: drop-shadow(0px 1px 2px rgba(0, 0, 0, 0.3));\n",
              "      fill: #FFFFFF;\n",
              "    }\n",
              "  </style>\n",
              "\n",
              "      <script>\n",
              "        const buttonEl =\n",
              "          document.querySelector('#df-f8269e73-2e1f-480b-8b60-fcd3f60d021b button.colab-df-convert');\n",
              "        buttonEl.style.display =\n",
              "          google.colab.kernel.accessAllowed ? 'block' : 'none';\n",
              "\n",
              "        async function convertToInteractive(key) {\n",
              "          const element = document.querySelector('#df-f8269e73-2e1f-480b-8b60-fcd3f60d021b');\n",
              "          const dataTable =\n",
              "            await google.colab.kernel.invokeFunction('convertToInteractive',\n",
              "                                                     [key], {});\n",
              "          if (!dataTable) return;\n",
              "\n",
              "          const docLinkHtml = 'Like what you see? Visit the ' +\n",
              "            '<a target=\"_blank\" href=https://colab.research.google.com/notebooks/data_table.ipynb>data table notebook</a>'\n",
              "            + ' to learn more about interactive tables.';\n",
              "          element.innerHTML = '';\n",
              "          dataTable['output_type'] = 'display_data';\n",
              "          await google.colab.output.renderOutput(dataTable, element);\n",
              "          const docLink = document.createElement('div');\n",
              "          docLink.innerHTML = docLinkHtml;\n",
              "          element.appendChild(docLink);\n",
              "        }\n",
              "      </script>\n",
              "    </div>\n",
              "  </div>\n",
              "  "
            ]
          },
          "metadata": {},
          "execution_count": 7
        }
      ],
      "source": [
        "df.head()"
      ]
    },
    {
      "cell_type": "code",
      "execution_count": 8,
      "metadata": {
        "colab": {
          "base_uri": "https://localhost:8080/"
        },
        "id": "ffUDZ_9A1Vfc",
        "outputId": "c70d5b6f-564b-4848-9c19-b5be7a7b3632"
      },
      "outputs": [
        {
          "output_type": "execute_result",
          "data": {
            "text/plain": [
              "(100000, 28)"
            ]
          },
          "metadata": {},
          "execution_count": 8
        }
      ],
      "source": [
        "df.shape"
      ]
    },
    {
      "cell_type": "code",
      "execution_count": 9,
      "metadata": {
        "colab": {
          "base_uri": "https://localhost:8080/"
        },
        "id": "PlClPJ2y2RLH",
        "outputId": "4d22d80e-8345-482d-b286-d3e841dbddde"
      },
      "outputs": [
        {
          "output_type": "stream",
          "name": "stdout",
          "text": [
            "<class 'pandas.core.frame.DataFrame'>\n",
            "RangeIndex: 100000 entries, 0 to 99999\n",
            "Data columns (total 28 columns):\n",
            " #   Column                    Non-Null Count   Dtype  \n",
            "---  ------                    --------------   -----  \n",
            " 0   ID                        100000 non-null  int64  \n",
            " 1   Customer_ID               100000 non-null  int64  \n",
            " 2   Month                     100000 non-null  int64  \n",
            " 3   Name                      100000 non-null  object \n",
            " 4   Age                       100000 non-null  float64\n",
            " 5   SSN                       100000 non-null  float64\n",
            " 6   Occupation                100000 non-null  object \n",
            " 7   Annual_Income             100000 non-null  float64\n",
            " 8   Monthly_Inhand_Salary     100000 non-null  float64\n",
            " 9   Num_Bank_Accounts         100000 non-null  float64\n",
            " 10  Num_Credit_Card           100000 non-null  float64\n",
            " 11  Interest_Rate             100000 non-null  float64\n",
            " 12  Num_of_Loan               100000 non-null  float64\n",
            " 13  Type_of_Loan              100000 non-null  object \n",
            " 14  Delay_from_due_date       100000 non-null  float64\n",
            " 15  Num_of_Delayed_Payment    100000 non-null  float64\n",
            " 16  Changed_Credit_Limit      100000 non-null  float64\n",
            " 17  Num_Credit_Inquiries      100000 non-null  float64\n",
            " 18  Credit_Mix                100000 non-null  object \n",
            " 19  Outstanding_Debt          100000 non-null  float64\n",
            " 20  Credit_Utilization_Ratio  100000 non-null  float64\n",
            " 21  Credit_History_Age        100000 non-null  float64\n",
            " 22  Payment_of_Min_Amount     100000 non-null  object \n",
            " 23  Total_EMI_per_month       100000 non-null  float64\n",
            " 24  Amount_invested_monthly   100000 non-null  float64\n",
            " 25  Payment_Behaviour         100000 non-null  object \n",
            " 26  Monthly_Balance           100000 non-null  float64\n",
            " 27  Credit_Score              100000 non-null  object \n",
            "dtypes: float64(18), int64(3), object(7)\n",
            "memory usage: 21.4+ MB\n"
          ]
        }
      ],
      "source": [
        "df.info()"
      ]
    },
    {
      "cell_type": "code",
      "execution_count": 10,
      "metadata": {
        "colab": {
          "base_uri": "https://localhost:8080/",
          "height": 597
        },
        "id": "MTqUHtl79Jdi",
        "outputId": "f662805b-9791-4506-a7d6-21b513188ec8"
      },
      "outputs": [
        {
          "output_type": "stream",
          "name": "stdout",
          "text": [
            "[12 12 12 ...  9  9  9]\n"
          ]
        },
        {
          "output_type": "stream",
          "name": "stderr",
          "text": [
            "/usr/local/lib/python3.10/dist-packages/matplotlib/text.py:1279: FutureWarning: elementwise comparison failed; returning scalar instead, but in the future will perform elementwise comparison\n",
            "  if s != self._text:\n"
          ]
        },
        {
          "output_type": "execute_result",
          "data": {
            "text/plain": [
              "<seaborn.axisgrid.FacetGrid at 0x7f9c0187d060>"
            ]
          },
          "metadata": {},
          "execution_count": 10
        },
        {
          "output_type": "display_data",
          "data": {
            "text/plain": [
              "<Figure size 500x500 with 1 Axes>"
            ],
            "image/png": "[encoded data removed]"
          },
          "metadata": {}
        }
      ],
      "source": [
        "from sklearn.preprocessing import LabelEncoder\n",
        "temp=LabelEncoder().fit_transform(df[\"Occupation\"])\n",
        "print(temp)\n",
        "sns.catplot(kind=\"bar\",data=df,x=\"Credit_Score\",y=temp)"
      ]
    },
    {
      "cell_type": "code",
      "execution_count": 11,
      "metadata": {
        "colab": {
          "base_uri": "https://localhost:8080/",
          "height": 524
        },
        "id": "Ik_7eKH62n5Z",
        "outputId": "e790711a-4fd9-424b-df45-f55fe59c6bb1"
      },
      "outputs": [
        {
          "output_type": "execute_result",
          "data": {
            "text/plain": [
              "<seaborn.axisgrid.FacetGrid at 0x7f9bc31e6a70>"
            ]
          },
          "metadata": {},
          "execution_count": 11
        },
        {
          "output_type": "display_data",
          "data": {
            "text/plain": [
              "<Figure size 500x500 with 1 Axes>"
            ],
            "image/png": "[encoded data removed]"
          },
          "metadata": {}
        }
      ],
      "source": [
        "sns.catplot(kind=\"bar\",data=df,x=\"Credit_Score\",y=\"Annual_Income\")"
      ]
    },
    {
      "cell_type": "code",
      "execution_count": 12,
      "metadata": {
        "colab": {
          "base_uri": "https://localhost:8080/",
          "height": 524
        },
        "id": "AwLFO9ty4m9A",
        "outputId": "8fe7e710-1fd2-4e13-c2d3-641ccc8996d1"
      },
      "outputs": [
        {
          "output_type": "execute_result",
          "data": {
            "text/plain": [
              "<seaborn.axisgrid.FacetGrid at 0x7f9bc262b6a0>"
            ]
          },
          "metadata": {},
          "execution_count": 12
        },
        {
          "output_type": "display_data",
          "data": {
            "text/plain": [
              "<Figure size 500x500 with 1 Axes>"
            ],
            "image/png": "[encoded data removed]"
          },
          "metadata": {}
        }
      ],
      "source": [
        "sns.catplot(kind=\"bar\",data=df,x=\"Credit_Score\",y=\"Monthly_Inhand_Salary\")"
      ]
    },
    {
      "cell_type": "code",
      "execution_count": 13,
      "metadata": {
        "colab": {
          "base_uri": "https://localhost:8080/",
          "height": 524
        },
        "id": "2Ch58uNw3AyE",
        "outputId": "b16193c0-328f-4c59-9a10-cdfd4e534252"
      },
      "outputs": [
        {
          "output_type": "execute_result",
          "data": {
            "text/plain": [
              "<seaborn.axisgrid.FacetGrid at 0x7f9bc25d19c0>"
            ]
          },
          "metadata": {},
          "execution_count": 13
        },
        {
          "output_type": "display_data",
          "data": {
            "text/plain": [
              "<Figure size 500x500 with 1 Axes>"
            ],
            "image/png": "[encoded data removed]"
          },
          "metadata": {}
        }
      ],
      "source": [
        "sns.catplot(kind=\"bar\",data=df,x=\"Credit_Score\",y=\"Num_Bank_Accounts\")"
      ]
    },
    {
      "cell_type": "code",
      "execution_count": 14,
      "metadata": {
        "colab": {
          "base_uri": "https://localhost:8080/",
          "height": 524
        },
        "id": "vJoClKEj_kI-",
        "outputId": "c26922b1-f020-48c4-ae7a-b8a8aa7b69e2"
      },
      "outputs": [
        {
          "output_type": "execute_result",
          "data": {
            "text/plain": [
              "<seaborn.axisgrid.FacetGrid at 0x7f9bc267f340>"
            ]
          },
          "metadata": {},
          "execution_count": 14
        },
        {
          "output_type": "display_data",
          "data": {
            "text/plain": [
              "<Figure size 500x500 with 1 Axes>"
            ],
            "image/png": "[encoded data removed]"
          },
          "metadata": {}
        }
      ],
      "source": [
        "sns.catplot(kind=\"bar\",data=df,x=\"Credit_Score\",y=\"Num_Credit_Card\")"
      ]
    },
    {
      "cell_type": "code",
      "execution_count": 15,
      "metadata": {
        "colab": {
          "base_uri": "https://localhost:8080/",
          "height": 524
        },
        "id": "DQo6J0yT_kFU",
        "outputId": "fe79a667-8b2f-4e47-d5e3-753fbe14a817"
      },
      "outputs": [
        {
          "output_type": "execute_result",
          "data": {
            "text/plain": [
              "<seaborn.axisgrid.FacetGrid at 0x7f9bbc1bfc70>"
            ]
          },
          "metadata": {},
          "execution_count": 15
        },
        {
          "output_type": "display_data",
          "data": {
            "text/plain": [
              "<Figure size 500x500 with 1 Axes>"
            ],
            "image/png": "[encoded data removed]"
          },
          "metadata": {}
        }
      ],
      "source": [
        "sns.catplot(kind=\"bar\",data=df,x=\"Credit_Score\",y=\"Interest_Rate\")"
      ]
    },
    {
      "cell_type": "code",
      "execution_count": 16,
      "metadata": {
        "colab": {
          "base_uri": "https://localhost:8080/",
          "height": 525
        },
        "id": "EBQ4T7UP_j_q",
        "outputId": "4843f915-671f-4e95-8505-42a624c92d29"
      },
      "outputs": [
        {
          "output_type": "execute_result",
          "data": {
            "text/plain": [
              "<seaborn.axisgrid.FacetGrid at 0x7f9bbc12c5e0>"
            ]
          },
          "metadata": {},
          "execution_count": 16
        },
        {
          "output_type": "display_data",
          "data": {
            "text/plain": [
              "<Figure size 500x500 with 1 Axes>"
            ],
            "image/png": "[encoded data removed]"
          },
          "metadata": {}
        }
      ],
      "source": [
        "sns.catplot(kind=\"bar\",data=df,x=\"Credit_Score\",y=\"Num_of_Loan\")"
      ]
    },
    {
      "cell_type": "code",
      "execution_count": 17,
      "metadata": {
        "colab": {
          "base_uri": "https://localhost:8080/",
          "height": 597
        },
        "id": "dk5JLg1W_j8t",
        "outputId": "ff5f55cf-fb1b-4bc3-fea3-800ef91c7520"
      },
      "outputs": [
        {
          "output_type": "stream",
          "name": "stdout",
          "text": [
            "[128 128 128 ... 683 683 683]\n"
          ]
        },
        {
          "output_type": "stream",
          "name": "stderr",
          "text": [
            "/usr/local/lib/python3.10/dist-packages/matplotlib/text.py:1279: FutureWarning: elementwise comparison failed; returning scalar instead, but in the future will perform elementwise comparison\n",
            "  if s != self._text:\n"
          ]
        },
        {
          "output_type": "execute_result",
          "data": {
            "text/plain": [
              "<seaborn.axisgrid.FacetGrid at 0x7f9bbc1a99c0>"
            ]
          },
          "metadata": {},
          "execution_count": 17
        },
        {
          "output_type": "display_data",
          "data": {
            "text/plain": [
              "<Figure size 500x500 with 1 Axes>"
            ],
            "image/png": "[encoded data removed]"
          },
          "metadata": {}
        }
      ],
      "source": [
        "from sklearn.preprocessing import LabelEncoder\n",
        "temp=LabelEncoder().fit_transform(df[\"Type_of_Loan\"])\n",
        "print(temp)\n",
        "sns.catplot(kind=\"bar\",data=df,x=\"Credit_Score\",y=temp,)"
      ]
    },
    {
      "cell_type": "code",
      "execution_count": 18,
      "metadata": {
        "colab": {
          "base_uri": "https://localhost:8080/",
          "height": 524
        },
        "id": "eX7vXE0z_jrw",
        "outputId": "60eb0ae5-c9a8-4944-c0ed-acd699b6c200"
      },
      "outputs": [
        {
          "output_type": "execute_result",
          "data": {
            "text/plain": [
              "<seaborn.axisgrid.FacetGrid at 0x7f9bbc3ad330>"
            ]
          },
          "metadata": {},
          "execution_count": 18
        },
        {
          "output_type": "display_data",
          "data": {
            "text/plain": [
              "<Figure size 500x500 with 1 Axes>"
            ],
            "image/png": "[encoded data removed]"
          },
          "metadata": {}
        }
      ],
      "source": [
        "sns.catplot(kind=\"bar\",data=df,x=\"Credit_Score\",y=\"Delay_from_due_date\")"
      ]
    },
    {
      "cell_type": "code",
      "execution_count": 19,
      "metadata": {
        "colab": {
          "base_uri": "https://localhost:8080/",
          "height": 524
        },
        "id": "3hUsM08WAi41",
        "outputId": "8ae1a9f9-56d9-414e-fad1-b7e4a76cb49e"
      },
      "outputs": [
        {
          "output_type": "execute_result",
          "data": {
            "text/plain": [
              "<seaborn.axisgrid.FacetGrid at 0x7f9bbc3ca500>"
            ]
          },
          "metadata": {},
          "execution_count": 19
        },
        {
          "output_type": "display_data",
          "data": {
            "text/plain": [
              "<Figure size 500x500 with 1 Axes>"
            ],
            "image/png": "[encoded data removed]"
          },
          "metadata": {}
        }
      ],
      "source": [
        "sns.catplot(kind=\"bar\",data=df,x=\"Credit_Score\",y=\"Num_of_Delayed_Payment\")"
      ]
    },
    {
      "cell_type": "code",
      "execution_count": 20,
      "metadata": {
        "colab": {
          "base_uri": "https://localhost:8080/",
          "height": 524
        },
        "id": "W-1sgnXNArE2",
        "outputId": "07944818-3b9e-4627-8723-c041525ac666"
      },
      "outputs": [
        {
          "output_type": "execute_result",
          "data": {
            "text/plain": [
              "<seaborn.axisgrid.FacetGrid at 0x7f9bbc3c85e0>"
            ]
          },
          "metadata": {},
          "execution_count": 20
        },
        {
          "output_type": "display_data",
          "data": {
            "text/plain": [
              "<Figure size 500x500 with 1 Axes>"
            ],
            "image/png": "[encoded data removed]"
          },
          "metadata": {}
        }
      ],
      "source": [
        "sns.catplot(kind=\"bar\",data=df,x=\"Credit_Score\",y=\"Changed_Credit_Limit\")"
      ]
    },
    {
      "cell_type": "code",
      "execution_count": 21,
      "metadata": {
        "colab": {
          "base_uri": "https://localhost:8080/",
          "height": 524
        },
        "id": "zp86bOAwAyB1",
        "outputId": "6a6c983e-43d5-4419-b25d-e700e8de8fc6"
      },
      "outputs": [
        {
          "output_type": "execute_result",
          "data": {
            "text/plain": [
              "<seaborn.axisgrid.FacetGrid at 0x7f9bbc3d7a90>"
            ]
          },
          "metadata": {},
          "execution_count": 21
        },
        {
          "output_type": "display_data",
          "data": {
            "text/plain": [
              "<Figure size 500x500 with 1 Axes>"
            ],
            "image/png": "[encoded data removed]"
          },
          "metadata": {}
        }
      ],
      "source": [
        "sns.catplot(kind=\"bar\",data=df,x=\"Credit_Score\",y=\"Num_Credit_Inquiries\")"
      ]
    },
    {
      "cell_type": "code",
      "execution_count": 22,
      "metadata": {
        "colab": {
          "base_uri": "https://localhost:8080/",
          "height": 597
        },
        "id": "KLNu7hXkA3uh",
        "outputId": "2608022a-3584-4695-f53f-324734188056"
      },
      "outputs": [
        {
          "output_type": "stream",
          "name": "stdout",
          "text": [
            "{0, 1, 2}\n"
          ]
        },
        {
          "output_type": "stream",
          "name": "stderr",
          "text": [
            "/usr/local/lib/python3.10/dist-packages/matplotlib/text.py:1279: FutureWarning: elementwise comparison failed; returning scalar instead, but in the future will perform elementwise comparison\n",
            "  if s != self._text:\n"
          ]
        },
        {
          "output_type": "execute_result",
          "data": {
            "text/plain": [
              "<seaborn.axisgrid.FacetGrid at 0x7f9bbc3ca770>"
            ]
          },
          "metadata": {},
          "execution_count": 22
        },
        {
          "output_type": "display_data",
          "data": {
            "text/plain": [
              "<Figure size 500x500 with 1 Axes>"
            ],
            "image/png": "[encoded data removed]"
          },
          "metadata": {}
        }
      ],
      "source": [
        "from sklearn.preprocessing import LabelEncoder\n",
        "temp=LabelEncoder().fit_transform(df[\"Credit_Mix\"])\n",
        "print(set(temp))\n",
        "sns.catplot(kind=\"bar\",data=df,x=\"Credit_Score\",y=temp,)"
      ]
    },
    {
      "cell_type": "code",
      "execution_count": 23,
      "metadata": {
        "colab": {
          "base_uri": "https://localhost:8080/",
          "height": 524
        },
        "id": "80jqzZG0BDbH",
        "outputId": "89d973d7-a767-4f7e-e7d8-459f3271cc4c"
      },
      "outputs": [
        {
          "output_type": "execute_result",
          "data": {
            "text/plain": [
              "<seaborn.axisgrid.FacetGrid at 0x7f9bbbcd3fd0>"
            ]
          },
          "metadata": {},
          "execution_count": 23
        },
        {
          "output_type": "display_data",
          "data": {
            "text/plain": [
              "<Figure size 500x500 with 1 Axes>"
            ],
            "image/png": "[encoded data removed]"
          },
          "metadata": {}
        }
      ],
      "source": [
        "sns.catplot(kind=\"bar\",data=df,x=\"Credit_Score\",y=\"Outstanding_Debt\")"
      ]
    },
    {
      "cell_type": "code",
      "execution_count": 24,
      "metadata": {
        "colab": {
          "base_uri": "https://localhost:8080/",
          "height": 524
        },
        "id": "f1hh1Q8wHxQV",
        "outputId": "80e60dfd-a263-4fff-abaf-b97c6f7cff67"
      },
      "outputs": [
        {
          "output_type": "execute_result",
          "data": {
            "text/plain": [
              "<seaborn.axisgrid.FacetGrid at 0x7f9bbbcbf820>"
            ]
          },
          "metadata": {},
          "execution_count": 24
        },
        {
          "output_type": "display_data",
          "data": {
            "text/plain": [
              "<Figure size 500x500 with 1 Axes>"
            ],
            "image/png": "[encoded data removed]"
          },
          "metadata": {}
        }
      ],
      "source": [
        "sns.catplot(kind=\"bar\",data=df,x=\"Credit_Score\",y=\"Credit_Utilization_Ratio\")"
      ]
    },
    {
      "cell_type": "code",
      "execution_count": 25,
      "metadata": {
        "colab": {
          "base_uri": "https://localhost:8080/",
          "height": 525
        },
        "id": "qLl7NB2qHxNb",
        "outputId": "057d2c41-9334-4767-fa18-d42d31ba4a86"
      },
      "outputs": [
        {
          "output_type": "execute_result",
          "data": {
            "text/plain": [
              "<seaborn.axisgrid.FacetGrid at 0x7f9bbbed3a00>"
            ]
          },
          "metadata": {},
          "execution_count": 25
        },
        {
          "output_type": "display_data",
          "data": {
            "text/plain": [
              "<Figure size 500x500 with 1 Axes>"
            ],
            "image/png": "[encoded data removed]"
          },
          "metadata": {}
        }
      ],
      "source": [
        "sns.catplot(kind=\"bar\",data=df,x=\"Credit_Score\",y=\"Credit_History_Age\")"
      ]
    },
    {
      "cell_type": "code",
      "execution_count": 26,
      "metadata": {
        "colab": {
          "base_uri": "https://localhost:8080/",
          "height": 597
        },
        "id": "sw42jL1IHxKy",
        "outputId": "8d06e316-c8b8-4d0e-c1ed-9f2a5a97d540"
      },
      "outputs": [
        {
          "output_type": "stream",
          "name": "stdout",
          "text": [
            "{0, 1, 2}\n"
          ]
        },
        {
          "output_type": "stream",
          "name": "stderr",
          "text": [
            "/usr/local/lib/python3.10/dist-packages/matplotlib/text.py:1279: FutureWarning: elementwise comparison failed; returning scalar instead, but in the future will perform elementwise comparison\n",
            "  if s != self._text:\n"
          ]
        },
        {
          "output_type": "execute_result",
          "data": {
            "text/plain": [
              "<seaborn.axisgrid.FacetGrid at 0x7f9bbc838610>"
            ]
          },
          "metadata": {},
          "execution_count": 26
        },
        {
          "output_type": "display_data",
          "data": {
            "text/plain": [
              "<Figure size 500x500 with 1 Axes>"
            ],
            "image/png": "[encoded data removed]"
          },
          "metadata": {}
        }
      ],
      "source": [
        "from sklearn.preprocessing import LabelEncoder\n",
        "temp=LabelEncoder().fit_transform(df[\"Payment_of_Min_Amount\"])\n",
        "print(set(temp))\n",
        "sns.catplot(kind=\"bar\",data=df,x=\"Credit_Score\",y=temp,)"
      ]
    },
    {
      "cell_type": "code",
      "execution_count": 27,
      "metadata": {
        "colab": {
          "base_uri": "https://localhost:8080/",
          "height": 524
        },
        "id": "GOhy3fdSHxHz",
        "outputId": "413df2ba-7cfc-4a9f-bc9f-da7a6bed1a2d"
      },
      "outputs": [
        {
          "output_type": "execute_result",
          "data": {
            "text/plain": [
              "<seaborn.axisgrid.FacetGrid at 0x7f9bbc855f90>"
            ]
          },
          "metadata": {},
          "execution_count": 27
        },
        {
          "output_type": "display_data",
          "data": {
            "text/plain": [
              "<Figure size 500x500 with 1 Axes>"
            ],
            "image/png": "[encoded data removed]"
          },
          "metadata": {}
        }
      ],
      "source": [
        "sns.catplot(kind=\"bar\",data=df,x=\"Credit_Score\",y=\"Total_EMI_per_month\")"
      ]
    },
    {
      "cell_type": "code",
      "execution_count": 28,
      "metadata": {
        "colab": {
          "base_uri": "https://localhost:8080/",
          "height": 524
        },
        "id": "oDGyhuJjHwlS",
        "outputId": "d789df0c-0906-4bd0-8bb2-53275bb6af32"
      },
      "outputs": [
        {
          "output_type": "execute_result",
          "data": {
            "text/plain": [
              "<seaborn.axisgrid.FacetGrid at 0x7f9bbc95ef80>"
            ]
          },
          "metadata": {},
          "execution_count": 28
        },
        {
          "output_type": "display_data",
          "data": {
            "text/plain": [
              "<Figure size 500x500 with 1 Axes>"
            ],
            "image/png": "[encoded data removed]"
          },
          "metadata": {}
        }
      ],
      "source": [
        "sns.catplot(kind=\"bar\",data=df,x=\"Credit_Score\",y=\"Amount_invested_monthly\")"
      ]
    },
    {
      "cell_type": "code",
      "execution_count": 29,
      "metadata": {
        "colab": {
          "base_uri": "https://localhost:8080/",
          "height": 651
        },
        "id": "KBfvoVhbI_wQ",
        "outputId": "fd3db451-64ca-4017-8f90-b9ff60c56ab4"
      },
      "outputs": [
        {
          "output_type": "stream",
          "name": "stdout",
          "text": [
            "['High_spent_Small_value_payments' 'Low_spent_Large_value_payments'\n",
            " 'Low_spent_Medium_value_payments' 'Low_spent_Small_value_payments'\n",
            " 'High_spent_Medium_value_payments' 'High_spent_Large_value_payments']\n",
            "{0, 1, 2, 3, 4, 5}\n"
          ]
        },
        {
          "output_type": "stream",
          "name": "stderr",
          "text": [
            "/usr/local/lib/python3.10/dist-packages/matplotlib/text.py:1279: FutureWarning: elementwise comparison failed; returning scalar instead, but in the future will perform elementwise comparison\n",
            "  if s != self._text:\n"
          ]
        },
        {
          "output_type": "execute_result",
          "data": {
            "text/plain": [
              "<seaborn.axisgrid.FacetGrid at 0x7f9bbc854610>"
            ]
          },
          "metadata": {},
          "execution_count": 29
        },
        {
          "output_type": "display_data",
          "data": {
            "text/plain": [
              "<Figure size 500x500 with 1 Axes>"
            ],
            "image/png": "[encoded data removed]"
          },
          "metadata": {}
        }
      ],
      "source": [
        "from sklearn.preprocessing import LabelEncoder\n",
        "print(df[\"Payment_Behaviour\"].unique())\n",
        "temp=LabelEncoder().fit_transform(df[\"Payment_Behaviour\"])\n",
        "print(set(temp))\n",
        "sns.catplot(kind=\"bar\",data=df,x=\"Credit_Score\",y=temp,)"
      ]
    },
    {
      "cell_type": "code",
      "execution_count": 30,
      "metadata": {
        "colab": {
          "base_uri": "https://localhost:8080/",
          "height": 524
        },
        "id": "-IaYjgoCJFGa",
        "outputId": "2a6fbcc7-019f-469b-bd8d-8505cb035d70"
      },
      "outputs": [
        {
          "output_type": "execute_result",
          "data": {
            "text/plain": [
              "<seaborn.axisgrid.FacetGrid at 0x7f9bbc1ab220>"
            ]
          },
          "metadata": {},
          "execution_count": 30
        },
        {
          "output_type": "display_data",
          "data": {
            "text/plain": [
              "<Figure size 500x500 with 1 Axes>"
            ],
            "image/png": "[encoded data removed]"
          },
          "metadata": {}
        }
      ],
      "source": [
        "sns.catplot(kind=\"bar\",data=df,x=\"Credit_Score\",y=\"Monthly_Balance\")"
      ]
    },
    {
      "cell_type": "code",
      "execution_count": 31,
      "metadata": {
        "id": "16SfRbFBMFk8"
      },
      "outputs": [],
      "source": [
        "df_backup=df"
      ]
    },
    {
      "cell_type": "code",
      "execution_count": 32,
      "metadata": {
        "colab": {
          "base_uri": "https://localhost:8080/"
        },
        "id": "29E5T3ITMQs6",
        "outputId": "922cc0d5-74ba-4754-8030-76f5a0b11160"
      },
      "outputs": [
        {
          "output_type": "execute_result",
          "data": {
            "text/plain": [
              "Index(['ID', 'Customer_ID', 'Month', 'Name', 'Age', 'SSN', 'Occupation',\n",
              "       'Annual_Income', 'Monthly_Inhand_Salary', 'Num_Bank_Accounts',\n",
              "       'Num_Credit_Card', 'Interest_Rate', 'Num_of_Loan', 'Type_of_Loan',\n",
              "       'Delay_from_due_date', 'Num_of_Delayed_Payment', 'Changed_Credit_Limit',\n",
              "       'Num_Credit_Inquiries', 'Credit_Mix', 'Outstanding_Debt',\n",
              "       'Credit_Utilization_Ratio', 'Credit_History_Age',\n",
              "       'Payment_of_Min_Amount', 'Total_EMI_per_month',\n",
              "       'Amount_invested_monthly', 'Payment_Behaviour', 'Monthly_Balance',\n",
              "       'Credit_Score'],\n",
              "      dtype='object')"
            ]
          },
          "metadata": {},
          "execution_count": 32
        }
      ],
      "source": [
        "df.columns"
      ]
    },
    {
      "cell_type": "code",
      "execution_count": 33,
      "metadata": {
        "id": "IFKhhETvMFiA"
      },
      "outputs": [],
      "source": [
        "df.drop(['ID', 'Customer_ID', 'Month', 'Name', 'Age', 'SSN'],axis=1,inplace=True)"
      ]
    },
    {
      "cell_type": "code",
      "execution_count": 34,
      "metadata": {
        "colab": {
          "base_uri": "https://localhost:8080/",
          "height": 531
        },
        "id": "ddDuPiEdMFPT",
        "outputId": "3b1d321d-f4ab-49be-875b-c0b090fcf34d"
      },
      "outputs": [
        {
          "output_type": "execute_result",
          "data": {
            "text/plain": [
              "  Occupation  Annual_Income  Monthly_Inhand_Salary  Num_Bank_Accounts  \\\n",
              "0  Scientist       19114.12            1824.843333                3.0   \n",
              "1  Scientist       19114.12            1824.843333                3.0   \n",
              "2  Scientist       19114.12            1824.843333                3.0   \n",
              "3  Scientist       19114.12            1824.843333                3.0   \n",
              "4  Scientist       19114.12            1824.843333                3.0   \n",
              "\n",
              "   Num_Credit_Card  Interest_Rate  Num_of_Loan  \\\n",
              "0              4.0            3.0          4.0   \n",
              "1              4.0            3.0          4.0   \n",
              "2              4.0            3.0          4.0   \n",
              "3              4.0            3.0          4.0   \n",
              "4              4.0            3.0          4.0   \n",
              "\n",
              "                                        Type_of_Loan  Delay_from_due_date  \\\n",
              "0  Auto Loan, Credit-Builder Loan, Personal Loan,...                  3.0   \n",
              "1  Auto Loan, Credit-Builder Loan, Personal Loan,...                  3.0   \n",
              "2  Auto Loan, Credit-Builder Loan, Personal Loan,...                  3.0   \n",
              "3  Auto Loan, Credit-Builder Loan, Personal Loan,...                  5.0   \n",
              "4  Auto Loan, Credit-Builder Loan, Personal Loan,...                  6.0   \n",
              "\n",
              "   Num_of_Delayed_Payment  Changed_Credit_Limit  Num_Credit_Inquiries  \\\n",
              "0                     7.0                 11.27                   4.0   \n",
              "1                     4.0                 11.27                   4.0   \n",
              "2                     7.0                 11.27                   4.0   \n",
              "3                     4.0                  6.27                   4.0   \n",
              "4                     4.0                 11.27                   4.0   \n",
              "\n",
              "  Credit_Mix  Outstanding_Debt  Credit_Utilization_Ratio  Credit_History_Age  \\\n",
              "0       Good            809.98                 26.822620               265.0   \n",
              "1       Good            809.98                 31.944960               266.0   \n",
              "2       Good            809.98                 28.609352               267.0   \n",
              "3       Good            809.98                 31.377862               268.0   \n",
              "4       Good            809.98                 24.797347               269.0   \n",
              "\n",
              "  Payment_of_Min_Amount  Total_EMI_per_month  Amount_invested_monthly  \\\n",
              "0                    No            49.574949                 21.46538   \n",
              "1                    No            49.574949                 21.46538   \n",
              "2                    No            49.574949                 21.46538   \n",
              "3                    No            49.574949                 21.46538   \n",
              "4                    No            49.574949                 21.46538   \n",
              "\n",
              "                  Payment_Behaviour  Monthly_Balance Credit_Score  \n",
              "0   High_spent_Small_value_payments       312.494089         Good  \n",
              "1    Low_spent_Large_value_payments       284.629162         Good  \n",
              "2   Low_spent_Medium_value_payments       331.209863         Good  \n",
              "3    Low_spent_Small_value_payments       223.451310         Good  \n",
              "4  High_spent_Medium_value_payments       341.489231         Good  "
            ],
            "text/html": [
              "\n",
              "  <div id=\"df-0d1d26a5-97ee-4c02-a12b-3c63fa7edc85\">\n",
              "    <div class=\"colab-df-container\">\n",
              "      <div>\n",
              "<style scoped>\n",
              "    .dataframe tbody tr th:only-of-type {\n",
              "        vertical-align: middle;\n",
              "    }\n",
              "\n",
              "    .dataframe tbody tr th {\n",
              "        vertical-align: top;\n",
              "    }\n",
              "\n",
              "    .dataframe thead th {\n",
              "        text-align: right;\n",
              "    }\n",
              "</style>\n",
              "<table border=\"1\" class=\"dataframe\">\n",
              "  <thead>\n",
              "    <tr style=\"text-align: right;\">\n",
              "      <th></th>\n",
              "      <th>Occupation</th>\n",
              "      <th>Annual_Income</th>\n",
              "      <th>Monthly_Inhand_Salary</th>\n",
              "      <th>Num_Bank_Accounts</th>\n",
              "      <th>Num_Credit_Card</th>\n",
              "      <th>Interest_Rate</th>\n",
              "      <th>Num_of_Loan</th>\n",
              "      <th>Type_of_Loan</th>\n",
              "      <th>Delay_from_due_date</th>\n",
              "      <th>Num_of_Delayed_Payment</th>\n",
              "      <th>Changed_Credit_Limit</th>\n",
              "      <th>Num_Credit_Inquiries</th>\n",
              "      <th>Credit_Mix</th>\n",
              "      <th>Outstanding_Debt</th>\n",
              "      <th>Credit_Utilization_Ratio</th>\n",
              "      <th>Credit_History_Age</th>\n",
              "      <th>Payment_of_Min_Amount</th>\n",
              "      <th>Total_EMI_per_month</th>\n",
              "      <th>Amount_invested_monthly</th>\n",
              "      <th>Payment_Behaviour</th>\n",
              "      <th>Monthly_Balance</th>\n",
              "      <th>Credit_Score</th>\n",
              "    </tr>\n",
              "  </thead>\n",
              "  <tbody>\n",
              "    <tr>\n",
              "      <th>0</th>\n",
              "      <td>Scientist</td>\n",
              "      <td>19114.12</td>\n",
              "      <td>1824.843333</td>\n",
              "      <td>3.0</td>\n",
              "      <td>4.0</td>\n",
              "      <td>3.0</td>\n",
              "      <td>4.0</td>\n",
              "      <td>Auto Loan, Credit-Builder Loan, Personal Loan,...</td>\n",
              "      <td>3.0</td>\n",
              "      <td>7.0</td>\n",
              "      <td>11.27</td>\n",
              "      <td>4.0</td>\n",
              "      <td>Good</td>\n",
              "      <td>809.98</td>\n",
              "      <td>26.822620</td>\n",
              "      <td>265.0</td>\n",
              "      <td>No</td>\n",
              "      <td>49.574949</td>\n",
              "      <td>21.46538</td>\n",
              "      <td>High_spent_Small_value_payments</td>\n",
              "      <td>312.494089</td>\n",
              "      <td>Good</td>\n",
              "    </tr>\n",
              "    <tr>\n",
              "      <th>1</th>\n",
              "      <td>Scientist</td>\n",
              "      <td>19114.12</td>\n",
              "      <td>1824.843333</td>\n",
              "      <td>3.0</td>\n",
              "      <td>4.0</td>\n",
              "      <td>3.0</td>\n",
              "      <td>4.0</td>\n",
              "      <td>Auto Loan, Credit-Builder Loan, Personal Loan,...</td>\n",
              "      <td>3.0</td>\n",
              "      <td>4.0</td>\n",
              "      <td>11.27</td>\n",
              "      <td>4.0</td>\n",
              "      <td>Good</td>\n",
              "      <td>809.98</td>\n",
              "      <td>31.944960</td>\n",
              "      <td>266.0</td>\n",
              "      <td>No</td>\n",
              "      <td>49.574949</td>\n",
              "      <td>21.46538</td>\n",
              "      <td>Low_spent_Large_value_payments</td>\n",
              "      <td>284.629162</td>\n",
              "      <td>Good</td>\n",
              "    </tr>\n",
              "    <tr>\n",
              "      <th>2</th>\n",
              "      <td>Scientist</td>\n",
              "      <td>19114.12</td>\n",
              "      <td>1824.843333</td>\n",
              "      <td>3.0</td>\n",
              "      <td>4.0</td>\n",
              "      <td>3.0</td>\n",
              "      <td>4.0</td>\n",
              "      <td>Auto Loan, Credit-Builder Loan, Personal Loan,...</td>\n",
              "      <td>3.0</td>\n",
              "      <td>7.0</td>\n",
              "      <td>11.27</td>\n",
              "      <td>4.0</td>\n",
              "      <td>Good</td>\n",
              "      <td>809.98</td>\n",
              "      <td>28.609352</td>\n",
              "      <td>267.0</td>\n",
              "      <td>No</td>\n",
              "      <td>49.574949</td>\n",
              "      <td>21.46538</td>\n",
              "      <td>Low_spent_Medium_value_payments</td>\n",
              "      <td>331.209863</td>\n",
              "      <td>Good</td>\n",
              "    </tr>\n",
              "    <tr>\n",
              "      <th>3</th>\n",
              "      <td>Scientist</td>\n",
              "      <td>19114.12</td>\n",
              "      <td>1824.843333</td>\n",
              "      <td>3.0</td>\n",
              "      <td>4.0</td>\n",
              "      <td>3.0</td>\n",
              "      <td>4.0</td>\n",
              "      <td>Auto Loan, Credit-Builder Loan, Personal Loan,...</td>\n",
              "      <td>5.0</td>\n",
              "      <td>4.0</td>\n",
              "      <td>6.27</td>\n",
              "      <td>4.0</td>\n",
              "      <td>Good</td>\n",
              "      <td>809.98</td>\n",
              "      <td>31.377862</td>\n",
              "      <td>268.0</td>\n",
              "      <td>No</td>\n",
              "      <td>49.574949</td>\n",
              "      <td>21.46538</td>\n",
              "      <td>Low_spent_Small_value_payments</td>\n",
              "      <td>223.451310</td>\n",
              "      <td>Good</td>\n",
              "    </tr>\n",
              "    <tr>\n",
              "      <th>4</th>\n",
              "      <td>Scientist</td>\n",
              "      <td>19114.12</td>\n",
              "      <td>1824.843333</td>\n",
              "      <td>3.0</td>\n",
              "      <td>4.0</td>\n",
              "      <td>3.0</td>\n",
              "      <td>4.0</td>\n",
              "      <td>Auto Loan, Credit-Builder Loan, Personal Loan,...</td>\n",
              "      <td>6.0</td>\n",
              "      <td>4.0</td>\n",
              "      <td>11.27</td>\n",
              "      <td>4.0</td>\n",
              "      <td>Good</td>\n",
              "      <td>809.98</td>\n",
              "      <td>24.797347</td>\n",
              "      <td>269.0</td>\n",
              "      <td>No</td>\n",
              "      <td>49.574949</td>\n",
              "      <td>21.46538</td>\n",
              "      <td>High_spent_Medium_value_payments</td>\n",
              "      <td>341.489231</td>\n",
              "      <td>Good</td>\n",
              "    </tr>\n",
              "  </tbody>\n",
              "</table>\n",
              "</div>\n",
              "      <button class=\"colab-df-convert\" onclick=\"convertToInteractive('df-0d1d26a5-97ee-4c02-a12b-3c63fa7edc85')\"\n",
              "              title=\"Convert this dataframe to an interactive table.\"\n",
              "              style=\"display:none;\">\n",
              "        \n",
              "  <svg xmlns=\"http://www.w3.org/2000/svg\" height=\"24px\"viewBox=\"0 0 24 24\"\n",
              "       width=\"24px\">\n",
              "    <path d=\"M0 0h24v24H0V0z\" fill=\"none\"/>\n",
              "    <path d=\"M18.56 5.44l.94 2.06.94-2.06 2.06-.94-2.06-.94-.94-2.06-.94 2.06-2.06.94zm-11 1L8.5 8.5l.94-2.06 2.06-.94-2.06-.94L8.5 2.5l-.94 2.06-2.06.94zm10 10l.94 2.06.94-2.06 2.06-.94-2.06-.94-.94-2.06-.94 2.06-2.06.94z\"/><path d=\"M17.41 7.96l-1.37-1.37c-.4-.4-.92-.59-1.43-.59-.52 0-1.04.2-1.43.59L10.3 9.45l-7.72 7.72c-.78.78-.78 2.05 0 2.83L4 21.41c.39.39.9.59 1.41.59.51 0 1.02-.2 1.41-.59l7.78-7.78 2.81-2.81c.8-.78.8-2.07 0-2.86zM5.41 20L4 18.59l7.72-7.72 1.47 1.35L5.41 20z\"/>\n",
              "  </svg>\n",
              "      </button>\n",
              "      \n",
              "  <style>\n",
              "    .colab-df-container {\n",
              "      display:flex;\n",
              "      flex-wrap:wrap;\n",
              "      gap: 12px;\n",
              "    }\n",
              "\n",
              "    .colab-df-convert {\n",
              "      background-color: #E8F0FE;\n",
              "      border: none;\n",
              "      border-radius: 50%;\n",
              "      cursor: pointer;\n",
              "      display: none;\n",
              "      fill: #1967D2;\n",
              "      height: 32px;\n",
              "      padding: 0 0 0 0;\n",
              "      width: 32px;\n",
              "    }\n",
              "\n",
              "    .colab-df-convert:hover {\n",
              "      background-color: #E2EBFA;\n",
              "      box-shadow: 0px 1px 2px rgba(60, 64, 67, 0.3), 0px 1px 3px 1px rgba(60, 64, 67, 0.15);\n",
              "      fill: #174EA6;\n",
              "    }\n",
              "\n",
              "    [theme=dark] .colab-df-convert {\n",
              "      background-color: #3B4455;\n",
              "      fill: #D2E3FC;\n",
              "    }\n",
              "\n",
              "    [theme=dark] .colab-df-convert:hover {\n",
              "      background-color: #434B5C;\n",
              "      box-shadow: 0px 1px 3px 1px rgba(0, 0, 0, 0.15);\n",
              "      filter: drop-shadow(0px 1px 2px rgba(0, 0, 0, 0.3));\n",
              "      fill: #FFFFFF;\n",
              "    }\n",
              "  </style>\n",
              "\n",
              "      <script>\n",
              "        const buttonEl =\n",
              "          document.querySelector('#df-0d1d26a5-97ee-4c02-a12b-3c63fa7edc85 button.colab-df-convert');\n",
              "        buttonEl.style.display =\n",
              "          google.colab.kernel.accessAllowed ? 'block' : 'none';\n",
              "\n",
              "        async function convertToInteractive(key) {\n",
              "          const element = document.querySelector('#df-0d1d26a5-97ee-4c02-a12b-3c63fa7edc85');\n",
              "          const dataTable =\n",
              "            await google.colab.kernel.invokeFunction('convertToInteractive',\n",
              "                                                     [key], {});\n",
              "          if (!dataTable) return;\n",
              "\n",
              "          const docLinkHtml = 'Like what you see? Visit the ' +\n",
              "            '<a target=\"_blank\" href=https://colab.research.google.com/notebooks/data_table.ipynb>data table notebook</a>'\n",
              "            + ' to learn more about interactive tables.';\n",
              "          element.innerHTML = '';\n",
              "          dataTable['output_type'] = 'display_data';\n",
              "          await google.colab.output.renderOutput(dataTable, element);\n",
              "          const docLink = document.createElement('div');\n",
              "          docLink.innerHTML = docLinkHtml;\n",
              "          element.appendChild(docLink);\n",
              "        }\n",
              "      </script>\n",
              "    </div>\n",
              "  </div>\n",
              "  "
            ]
          },
          "metadata": {},
          "execution_count": 34
        }
      ],
      "source": [
        "df.head()"
      ]
    },
    {
      "cell_type": "code",
      "execution_count": 35,
      "metadata": {
        "id": "n3XAH7qoMjSb"
      },
      "outputs": [],
      "source": [
        "df[\"Occupation\"]=LabelEncoder().fit_transform(df[\"Occupation\"])"
      ]
    },
    {
      "cell_type": "code",
      "execution_count": 36,
      "metadata": {
        "id": "BtugpkFOMshx"
      },
      "outputs": [],
      "source": [
        "df[\"Payment_Behaviour\"]=LabelEncoder().fit_transform(df[\"Payment_Behaviour\"])\n",
        "df[\"Type_of_Loan\"]=LabelEncoder().fit_transform(df[\"Type_of_Loan\"])\n",
        "df[\"Credit_Mix\"]=LabelEncoder().fit_transform(df[\"Credit_Mix\"])\n",
        "df[\"Payment_of_Min_Amount\"]=LabelEncoder().fit_transform(df[\"Payment_of_Min_Amount\"])"
      ]
    },
    {
      "cell_type": "code",
      "execution_count": 37,
      "metadata": {
        "id": "fZWA7MbTLhWG"
      },
      "outputs": [],
      "source": [
        "X=df.drop([\"Credit_Score\"],axis=1)\n",
        "y=df[\"Credit_Score\"]"
      ]
    },
    {
      "cell_type": "code",
      "execution_count": 38,
      "metadata": {
        "colab": {
          "base_uri": "https://localhost:8080/"
        },
        "id": "UaP6OTXhMDCH",
        "outputId": "004de8e1-c468-40b2-9b95-729a88d2c1c3"
      },
      "outputs": [
        {
          "output_type": "stream",
          "name": "stdout",
          "text": [
            "<class 'pandas.core.frame.DataFrame'>\n",
            "RangeIndex: 100000 entries, 0 to 99999\n",
            "Data columns (total 22 columns):\n",
            " #   Column                    Non-Null Count   Dtype  \n",
            "---  ------                    --------------   -----  \n",
            " 0   Occupation                100000 non-null  int64  \n",
            " 1   Annual_Income             100000 non-null  float64\n",
            " 2   Monthly_Inhand_Salary     100000 non-null  float64\n",
            " 3   Num_Bank_Accounts         100000 non-null  float64\n",
            " 4   Num_Credit_Card           100000 non-null  float64\n",
            " 5   Interest_Rate             100000 non-null  float64\n",
            " 6   Num_of_Loan               100000 non-null  float64\n",
            " 7   Type_of_Loan              100000 non-null  int64  \n",
            " 8   Delay_from_due_date       100000 non-null  float64\n",
            " 9   Num_of_Delayed_Payment    100000 non-null  float64\n",
            " 10  Changed_Credit_Limit      100000 non-null  float64\n",
            " 11  Num_Credit_Inquiries      100000 non-null  float64\n",
            " 12  Credit_Mix                100000 non-null  int64  \n",
            " 13  Outstanding_Debt          100000 non-null  float64\n",
            " 14  Credit_Utilization_Ratio  100000 non-null  float64\n",
            " 15  Credit_History_Age        100000 non-null  float64\n",
            " 16  Payment_of_Min_Amount     100000 non-null  int64  \n",
            " 17  Total_EMI_per_month       100000 non-null  float64\n",
            " 18  Amount_invested_monthly   100000 non-null  float64\n",
            " 19  Payment_Behaviour         100000 non-null  int64  \n",
            " 20  Monthly_Balance           100000 non-null  float64\n",
            " 21  Credit_Score              100000 non-null  object \n",
            "dtypes: float64(16), int64(5), object(1)\n",
            "memory usage: 16.8+ MB\n"
          ]
        }
      ],
      "source": [
        "df.info()"
      ]
    },
    {
      "cell_type": "code",
      "execution_count": 39,
      "metadata": {
        "id": "pe1rJQ-joi4a"
      },
      "outputs": [],
      "source": [
        "y=LabelEncoder().fit_transform(y)"
      ]
    },
    {
      "cell_type": "code",
      "source": [
        "from sklearn.model_selection import train_test_split,GridSearchCV"
      ],
      "metadata": {
        "id": "LaYiJJ-qhIvS"
      },
      "execution_count": 53,
      "outputs": []
    },
    {
      "cell_type": "code",
      "execution_count": 42,
      "metadata": {
        "id": "LKzlZaS6RAaB"
      },
      "outputs": [],
      "source": [
        "\n",
        "# Split the dataset into training and testing sets\n",
        "X_train, X_test, y_train, y_test = train_test_split(X, y, test_size=0.2, random_state=42)\n",
        "from sklearn.preprocessing import StandardScaler\n",
        "st=StandardScaler()\n",
        "X_train=st.fit_transform(X_train)\n",
        "X_test=st.transform(X_test)\n"
      ]
    },
    {
      "cell_type": "code",
      "execution_count": null,
      "metadata": {
        "scrolled": false,
        "id": "x2pdPCurdl3x",
        "outputId": "dcd69b66-d946-4be7-fab4-7f4a73f82dbd"
      },
      "outputs": [
        {
          "name": "stdout",
          "output_type": "stream",
          "text": [
            "Fitting 3 folds for each of 1 candidates, totalling 3 fits\n",
            "[CV 1/3] END ..................................., score=0.729 total time=   1.2s\n",
            "[CV 2/3] END ..................................., score=0.722 total time=   1.2s\n",
            "[CV 3/3] END ..................................., score=0.722 total time=   1.5s\n",
            "Decision Tree Accuracy: 0.73865\n",
            "Fitting 3 folds for each of 9 candidates, totalling 27 fits\n",
            "[CV 1/3] END ..max_depth=None, n_estimators=100;, score=0.806 total time=  17.3s\n",
            "[CV 2/3] END ..max_depth=None, n_estimators=100;, score=0.805 total time=  17.8s\n",
            "[CV 3/3] END ..max_depth=None, n_estimators=100;, score=0.802 total time=  17.2s\n",
            "[CV 1/3] END ..max_depth=None, n_estimators=200;, score=0.806 total time=  35.3s\n",
            "[CV 2/3] END ..max_depth=None, n_estimators=200;, score=0.806 total time=  36.4s\n",
            "[CV 3/3] END ..max_depth=None, n_estimators=200;, score=0.801 total time=  35.2s\n",
            "[CV 1/3] END ..max_depth=None, n_estimators=300;, score=0.807 total time=  53.2s\n",
            "[CV 2/3] END ..max_depth=None, n_estimators=300;, score=0.807 total time=  53.6s\n",
            "[CV 3/3] END ..max_depth=None, n_estimators=300;, score=0.801 total time=  53.4s\n",
            "[CV 1/3] END .....max_depth=5, n_estimators=100;, score=0.691 total time=   5.5s\n",
            "[CV 2/3] END .....max_depth=5, n_estimators=100;, score=0.683 total time=   5.7s\n",
            "[CV 3/3] END .....max_depth=5, n_estimators=100;, score=0.684 total time=   5.4s\n",
            "[CV 1/3] END .....max_depth=5, n_estimators=200;, score=0.685 total time=  11.2s\n",
            "[CV 2/3] END .....max_depth=5, n_estimators=200;, score=0.681 total time=  11.3s\n",
            "[CV 3/3] END .....max_depth=5, n_estimators=200;, score=0.683 total time=  11.3s\n",
            "[CV 1/3] END .....max_depth=5, n_estimators=300;, score=0.685 total time=  17.1s\n",
            "[CV 2/3] END .....max_depth=5, n_estimators=300;, score=0.681 total time=  16.8s\n",
            "[CV 3/3] END .....max_depth=5, n_estimators=300;, score=0.683 total time=  16.8s\n",
            "[CV 1/3] END ....max_depth=10, n_estimators=100;, score=0.732 total time=   9.7s\n",
            "[CV 2/3] END ....max_depth=10, n_estimators=100;, score=0.729 total time=   9.8s\n",
            "[CV 3/3] END ....max_depth=10, n_estimators=100;, score=0.727 total time=   9.8s\n",
            "[CV 1/3] END ....max_depth=10, n_estimators=200;, score=0.731 total time=  19.8s\n",
            "[CV 2/3] END ....max_depth=10, n_estimators=200;, score=0.730 total time=  21.0s\n",
            "[CV 3/3] END ....max_depth=10, n_estimators=200;, score=0.726 total time=  19.8s\n",
            "[CV 1/3] END ....max_depth=10, n_estimators=300;, score=0.730 total time=  29.4s\n",
            "[CV 2/3] END ....max_depth=10, n_estimators=300;, score=0.730 total time=  29.0s\n",
            "[CV 3/3] END ....max_depth=10, n_estimators=300;, score=0.726 total time=  29.5s\n",
            "Random Forest Accuracy: 0.8182\n",
            "Fitting 3 folds for each of 9 candidates, totalling 27 fits\n",
            "[CV 1/3] END ..max_depth=None, n_estimators=100;, score=0.800 total time=   7.0s\n",
            "[CV 2/3] END ..max_depth=None, n_estimators=100;, score=0.801 total time=   7.3s\n",
            "[CV 3/3] END ..max_depth=None, n_estimators=100;, score=0.796 total time=   6.9s\n",
            "[CV 1/3] END ..max_depth=None, n_estimators=200;, score=0.800 total time=  14.5s\n",
            "[CV 2/3] END ..max_depth=None, n_estimators=200;, score=0.800 total time=  14.4s\n",
            "[CV 3/3] END ..max_depth=None, n_estimators=200;, score=0.797 total time=  14.0s\n",
            "[CV 1/3] END ..max_depth=None, n_estimators=300;, score=0.800 total time=  21.1s\n",
            "[CV 2/3] END ..max_depth=None, n_estimators=300;, score=0.801 total time=  20.9s\n",
            "[CV 3/3] END ..max_depth=None, n_estimators=300;, score=0.796 total time=  20.7s\n",
            "[CV 1/3] END .....max_depth=5, n_estimators=100;, score=0.639 total time=   2.2s\n",
            "[CV 2/3] END .....max_depth=5, n_estimators=100;, score=0.641 total time=   1.8s\n",
            "[CV 3/3] END .....max_depth=5, n_estimators=100;, score=0.647 total time=   1.8s\n",
            "[CV 1/3] END .....max_depth=5, n_estimators=200;, score=0.639 total time=   3.7s\n",
            "[CV 2/3] END .....max_depth=5, n_estimators=200;, score=0.640 total time=   4.2s\n",
            "[CV 3/3] END .....max_depth=5, n_estimators=200;, score=0.647 total time=   3.6s\n",
            "[CV 1/3] END .....max_depth=5, n_estimators=300;, score=0.643 total time=   5.4s\n",
            "[CV 2/3] END .....max_depth=5, n_estimators=300;, score=0.642 total time=   5.8s\n",
            "[CV 3/3] END .....max_depth=5, n_estimators=300;, score=0.647 total time=   5.3s\n",
            "[CV 1/3] END ....max_depth=10, n_estimators=100;, score=0.711 total time=   3.5s\n",
            "[CV 2/3] END ....max_depth=10, n_estimators=100;, score=0.714 total time=   3.0s\n",
            "[CV 3/3] END ....max_depth=10, n_estimators=100;, score=0.709 total time=   3.0s\n",
            "[CV 1/3] END ....max_depth=10, n_estimators=200;, score=0.712 total time=   6.5s\n",
            "[CV 2/3] END ....max_depth=10, n_estimators=200;, score=0.713 total time=   5.9s\n",
            "[CV 3/3] END ....max_depth=10, n_estimators=200;, score=0.713 total time=   6.4s\n",
            "[CV 1/3] END ....max_depth=10, n_estimators=300;, score=0.713 total time=   9.1s\n",
            "[CV 2/3] END ....max_depth=10, n_estimators=300;, score=0.714 total time=   9.9s\n",
            "[CV 3/3] END ....max_depth=10, n_estimators=300;, score=0.713 total time=   9.6s\n",
            "Extra Trees Accuracy: 0.8108\n",
            "Fitting 3 folds for each of 3 candidates, totalling 9 fits\n"
          ]
        },
        {
          "name": "stderr",
          "output_type": "stream",
          "text": [
            "/usr/local/lib/python3.10/dist-packages/sklearn/ensemble/_base.py:166: FutureWarning: `base_estimator` was renamed to `estimator` in version 1.2 and will be removed in 1.4.\n",
            "  warnings.warn(\n"
          ]
        },
        {
          "name": "stdout",
          "output_type": "stream",
          "text": [
            "[CV 1/3] END ...................n_estimators=10;, score=0.788 total time=   8.5s\n"
          ]
        },
        {
          "name": "stderr",
          "output_type": "stream",
          "text": [
            "/usr/local/lib/python3.10/dist-packages/sklearn/ensemble/_base.py:166: FutureWarning: `base_estimator` was renamed to `estimator` in version 1.2 and will be removed in 1.4.\n",
            "  warnings.warn(\n"
          ]
        },
        {
          "name": "stdout",
          "output_type": "stream",
          "text": [
            "[CV 2/3] END ...................n_estimators=10;, score=0.789 total time=   8.3s\n"
          ]
        },
        {
          "name": "stderr",
          "output_type": "stream",
          "text": [
            "/usr/local/lib/python3.10/dist-packages/sklearn/ensemble/_base.py:166: FutureWarning: `base_estimator` was renamed to `estimator` in version 1.2 and will be removed in 1.4.\n",
            "  warnings.warn(\n"
          ]
        },
        {
          "name": "stdout",
          "output_type": "stream",
          "text": [
            "[CV 3/3] END ...................n_estimators=10;, score=0.787 total time=   8.5s\n"
          ]
        },
        {
          "name": "stderr",
          "output_type": "stream",
          "text": [
            "/usr/local/lib/python3.10/dist-packages/sklearn/ensemble/_base.py:166: FutureWarning: `base_estimator` was renamed to `estimator` in version 1.2 and will be removed in 1.4.\n",
            "  warnings.warn(\n"
          ]
        },
        {
          "name": "stdout",
          "output_type": "stream",
          "text": [
            "[CV 1/3] END ...................n_estimators=20;, score=0.796 total time=  17.1s\n"
          ]
        },
        {
          "name": "stderr",
          "output_type": "stream",
          "text": [
            "/usr/local/lib/python3.10/dist-packages/sklearn/ensemble/_base.py:166: FutureWarning: `base_estimator` was renamed to `estimator` in version 1.2 and will be removed in 1.4.\n",
            "  warnings.warn(\n"
          ]
        },
        {
          "name": "stdout",
          "output_type": "stream",
          "text": [
            "[CV 2/3] END ...................n_estimators=20;, score=0.796 total time=  16.9s\n"
          ]
        },
        {
          "name": "stderr",
          "output_type": "stream",
          "text": [
            "/usr/local/lib/python3.10/dist-packages/sklearn/ensemble/_base.py:166: FutureWarning: `base_estimator` was renamed to `estimator` in version 1.2 and will be removed in 1.4.\n",
            "  warnings.warn(\n"
          ]
        },
        {
          "name": "stdout",
          "output_type": "stream",
          "text": [
            "[CV 3/3] END ...................n_estimators=20;, score=0.796 total time=  17.0s\n"
          ]
        },
        {
          "name": "stderr",
          "output_type": "stream",
          "text": [
            "/usr/local/lib/python3.10/dist-packages/sklearn/ensemble/_base.py:166: FutureWarning: `base_estimator` was renamed to `estimator` in version 1.2 and will be removed in 1.4.\n",
            "  warnings.warn(\n"
          ]
        },
        {
          "name": "stdout",
          "output_type": "stream",
          "text": [
            "[CV 1/3] END ...................n_estimators=30;, score=0.797 total time=  25.6s\n"
          ]
        },
        {
          "name": "stderr",
          "output_type": "stream",
          "text": [
            "/usr/local/lib/python3.10/dist-packages/sklearn/ensemble/_base.py:166: FutureWarning: `base_estimator` was renamed to `estimator` in version 1.2 and will be removed in 1.4.\n",
            "  warnings.warn(\n"
          ]
        },
        {
          "name": "stdout",
          "output_type": "stream",
          "text": [
            "[CV 2/3] END ...................n_estimators=30;, score=0.796 total time=  25.4s\n"
          ]
        },
        {
          "name": "stderr",
          "output_type": "stream",
          "text": [
            "/usr/local/lib/python3.10/dist-packages/sklearn/ensemble/_base.py:166: FutureWarning: `base_estimator` was renamed to `estimator` in version 1.2 and will be removed in 1.4.\n",
            "  warnings.warn(\n"
          ]
        },
        {
          "name": "stdout",
          "output_type": "stream",
          "text": [
            "[CV 3/3] END ...................n_estimators=30;, score=0.796 total time=  25.2s\n"
          ]
        },
        {
          "name": "stderr",
          "output_type": "stream",
          "text": [
            "/usr/local/lib/python3.10/dist-packages/sklearn/ensemble/_base.py:166: FutureWarning: `base_estimator` was renamed to `estimator` in version 1.2 and will be removed in 1.4.\n",
            "  warnings.warn(\n"
          ]
        },
        {
          "name": "stdout",
          "output_type": "stream",
          "text": [
            "Bagging Accuracy: 0.8111\n",
            "Fitting 3 folds for each of 3 candidates, totalling 9 fits\n",
            "[CV 1/3] END ...................n_estimators=50;, score=0.665 total time=   5.0s\n",
            "[CV 2/3] END ...................n_estimators=50;, score=0.671 total time=   4.7s\n",
            "[CV 3/3] END ...................n_estimators=50;, score=0.668 total time=   5.1s\n",
            "[CV 1/3] END ..................n_estimators=100;, score=0.667 total time=   9.6s\n",
            "[CV 2/3] END ..................n_estimators=100;, score=0.666 total time=  10.0s\n",
            "[CV 3/3] END ..................n_estimators=100;, score=0.672 total time=  10.2s\n",
            "[CV 1/3] END ..................n_estimators=150;, score=0.671 total time=  15.3s\n",
            "[CV 2/3] END ..................n_estimators=150;, score=0.671 total time=  15.2s\n",
            "[CV 3/3] END ..................n_estimators=150;, score=0.672 total time=  14.6s\n",
            "AdaBoost Accuracy: 0.6677\n",
            "\n",
            "Best Classifier: RandomForestClassifier(n_estimators=300, random_state=42)\n",
            "Best Accuracy: 0.8182\n"
          ]
        },
        {
          "data": {
            "text/plain": [
              "['best_model.joblib']"
            ]
          },
          "metadata": {},
          "output_type": "display_data"
        }
      ],
      "source": [
        "\n",
        "from sklearn.tree import DecisionTreeClassifier\n",
        "from sklearn.ensemble import RandomForestClassifier, ExtraTreesClassifier, BaggingClassifier, AdaBoostClassifier, GradientBoostingClassifier\n",
        "from xgboost import XGBClassifier\n",
        "from lightgbm import LGBMClassifier\n",
        "\n",
        "from sklearn.svm import SVC\n",
        "from sklearn.neighbors import KNeighborsClassifier\n",
        "from sklearn.linear_model import LogisticRegression\n",
        "from sklearn.metrics import accuracy_score\n",
        "from joblib import dump\n",
        "\n",
        "\n",
        "\n",
        "# Define the classifiers with hyperparameters\n",
        "classifiers = [\n",
        "    (\"Decision Tree\", DecisionTreeClassifier(random_state=42), {}),\n",
        "    (\"Random Forest\", RandomForestClassifier(random_state=42), {'n_estimators': [100, 200, 300], 'max_depth': [None, 5, 10]}),\n",
        "    (\"Extra Trees\", ExtraTreesClassifier(random_state=42), {'n_estimators': [100, 200, 300], 'max_depth': [None, 5, 10]}),\n",
        "    (\"Bagging\", BaggingClassifier(base_estimator=DecisionTreeClassifier(), random_state=42), {'n_estimators': [10, 20, 30]}),\n",
        "    (\"AdaBoost\", AdaBoostClassifier(random_state=42), {'n_estimators': [50, 100, 150]}),\n",
        "\n",
        "]\n",
        "\n",
        "# Train and evaluate each classifier using GridSearchCV\n",
        "best_accuracy = 0.0\n",
        "best_classifier = None\n",
        "\n",
        "for name, classifier, params in classifiers:\n",
        "    clf = GridSearchCV(classifier, params, cv=3,verbose=3)\n",
        "    clf.fit(X_train, y_train)\n",
        "    y_pred = clf.predict(X_test)\n",
        "    accuracy = accuracy_score(y_test, y_pred)\n",
        "    print(f\"{name} Accuracy: {accuracy}\")\n",
        "    \n",
        "    if accuracy > best_accuracy:\n",
        "        best_accuracy = accuracy\n",
        "        best_classifier = clf\n",
        "\n",
        "print(\"\\nBest Classifier:\", best_classifier.best_estimator_)\n",
        "print(\"Best Accuracy:\", best_accuracy)\n",
        "\n",
        "# Save the best model\n",
        "dump(best_classifier.best_estimator_, 'best_model.joblib')\n"
      ]
    },
    {
      "cell_type": "code",
      "execution_count": null,
      "metadata": {
        "id": "cCLOH-r6dl3y",
        "outputId": "ac75f63c-9c5c-412b-ec85-8833cad1211b"
      },
      "outputs": [
        {
          "name": "stdout",
          "output_type": "stream",
          "text": [
            "Fitting 3 folds for each of 9 candidates, totalling 27 fits\n",
            "[CV 1/3] END ......max_depth=3, n_estimators=50;, score=0.716 total time=  10.2s\n",
            "[CV 2/3] END ......max_depth=3, n_estimators=50;, score=0.718 total time=   7.3s\n",
            "[CV 3/3] END ......max_depth=3, n_estimators=50;, score=0.715 total time=  10.0s\n",
            "[CV 1/3] END .....max_depth=3, n_estimators=100;, score=0.727 total time=  17.3s\n",
            "[CV 2/3] END .....max_depth=3, n_estimators=100;, score=0.728 total time=  20.0s\n",
            "[CV 3/3] END .....max_depth=3, n_estimators=100;, score=0.723 total time=  17.3s\n",
            "[CV 1/3] END .....max_depth=3, n_estimators=150;, score=0.732 total time=  27.1s\n",
            "[CV 2/3] END .....max_depth=3, n_estimators=150;, score=0.734 total time=  27.0s\n",
            "[CV 3/3] END .....max_depth=3, n_estimators=150;, score=0.731 total time=  26.9s\n",
            "[CV 1/3] END ......max_depth=5, n_estimators=50;, score=0.736 total time=  15.3s\n",
            "[CV 2/3] END ......max_depth=5, n_estimators=50;, score=0.737 total time=  15.3s\n",
            "[CV 3/3] END ......max_depth=5, n_estimators=50;, score=0.731 total time=  17.6s\n",
            "[CV 1/3] END .....max_depth=5, n_estimators=100;, score=0.751 total time=  32.7s\n",
            "[CV 2/3] END .....max_depth=5, n_estimators=100;, score=0.757 total time=  30.4s\n",
            "[CV 3/3] END .....max_depth=5, n_estimators=100;, score=0.749 total time=  30.4s\n",
            "[CV 1/3] END .....max_depth=5, n_estimators=150;, score=0.764 total time=  47.9s\n",
            "[CV 2/3] END .....max_depth=5, n_estimators=150;, score=0.768 total time=  45.2s\n",
            "[CV 3/3] END .....max_depth=5, n_estimators=150;, score=0.761 total time=  46.9s\n",
            "[CV 1/3] END ......max_depth=7, n_estimators=50;, score=0.759 total time=  23.9s\n",
            "[CV 2/3] END ......max_depth=7, n_estimators=50;, score=0.765 total time=  26.9s\n",
            "[CV 3/3] END ......max_depth=7, n_estimators=50;, score=0.758 total time=  24.1s\n",
            "[CV 1/3] END .....max_depth=7, n_estimators=100;, score=0.777 total time=  46.8s\n",
            "[CV 2/3] END .....max_depth=7, n_estimators=100;, score=0.783 total time=  47.3s\n",
            "[CV 3/3] END .....max_depth=7, n_estimators=100;, score=0.777 total time=  45.4s\n",
            "[CV 1/3] END .....max_depth=7, n_estimators=150;, score=0.787 total time= 1.1min\n",
            "[CV 2/3] END .....max_depth=7, n_estimators=150;, score=0.790 total time= 1.2min\n",
            "[CV 3/3] END .....max_depth=7, n_estimators=150;, score=0.783 total time= 1.2min\n",
            "XGBoost Accuracy: 0.80135\n",
            "Fitting 3 folds for each of 9 candidates, totalling 27 fits\n",
            "[CV 1/3] END ......max_depth=3, n_estimators=50;, score=0.711 total time=   1.0s\n",
            "[CV 2/3] END ......max_depth=3, n_estimators=50;, score=0.710 total time=   1.0s\n",
            "[CV 3/3] END ......max_depth=3, n_estimators=50;, score=0.709 total time=   1.0s\n",
            "[CV 1/3] END .....max_depth=3, n_estimators=100;, score=0.716 total time=   1.7s\n",
            "[CV 2/3] END .....max_depth=3, n_estimators=100;, score=0.716 total time=   1.7s\n",
            "[CV 3/3] END .....max_depth=3, n_estimators=100;, score=0.714 total time=   1.8s\n",
            "[CV 1/3] END .....max_depth=3, n_estimators=150;, score=0.719 total time=   5.5s\n",
            "[CV 2/3] END .....max_depth=3, n_estimators=150;, score=0.719 total time=   2.5s\n",
            "[CV 3/3] END .....max_depth=3, n_estimators=150;, score=0.718 total time=   2.5s\n",
            "[CV 1/3] END ......max_depth=5, n_estimators=50;, score=0.723 total time=   1.3s\n",
            "[CV 2/3] END ......max_depth=5, n_estimators=50;, score=0.722 total time=   1.3s\n",
            "[CV 3/3] END ......max_depth=5, n_estimators=50;, score=0.719 total time=   1.3s\n",
            "[CV 1/3] END .....max_depth=5, n_estimators=100;, score=0.732 total time=   5.4s\n",
            "[CV 2/3] END .....max_depth=5, n_estimators=100;, score=0.734 total time=   2.3s\n",
            "[CV 3/3] END .....max_depth=5, n_estimators=100;, score=0.731 total time=   2.4s\n",
            "[CV 1/3] END .....max_depth=5, n_estimators=150;, score=0.740 total time=   3.4s\n",
            "[CV 2/3] END .....max_depth=5, n_estimators=150;, score=0.745 total time=   6.9s\n",
            "[CV 3/3] END .....max_depth=5, n_estimators=150;, score=0.740 total time=   4.0s\n",
            "[CV 1/3] END ......max_depth=7, n_estimators=50;, score=0.728 total time=   1.5s\n",
            "[CV 2/3] END ......max_depth=7, n_estimators=50;, score=0.729 total time=   4.6s\n",
            "[CV 3/3] END ......max_depth=7, n_estimators=50;, score=0.725 total time=   1.5s\n",
            "[CV 1/3] END .....max_depth=7, n_estimators=100;, score=0.742 total time=   2.6s\n",
            "[CV 2/3] END .....max_depth=7, n_estimators=100;, score=0.744 total time=   2.5s\n",
            "[CV 3/3] END .....max_depth=7, n_estimators=100;, score=0.740 total time=   2.6s\n",
            "[CV 1/3] END .....max_depth=7, n_estimators=150;, score=0.754 total time=   9.8s\n",
            "[CV 2/3] END .....max_depth=7, n_estimators=150;, score=0.757 total time=   3.6s\n",
            "[CV 3/3] END .....max_depth=7, n_estimators=150;, score=0.752 total time=   6.6s\n",
            "LightGBM Accuracy: 0.7558\n",
            "Fitting 3 folds for each of 9 candidates, totalling 27 fits\n",
            "[CV 1/3] END ......max_depth=3, n_estimators=50;, score=0.709 total time=   1.9s\n",
            "[CV 2/3] END ......max_depth=3, n_estimators=50;, score=0.711 total time=   2.8s\n",
            "[CV 3/3] END ......max_depth=3, n_estimators=50;, score=0.707 total time=   3.0s\n",
            "[CV 1/3] END .....max_depth=3, n_estimators=100;, score=0.715 total time=   3.0s\n",
            "[CV 2/3] END .....max_depth=3, n_estimators=100;, score=0.717 total time=   2.9s\n",
            "[CV 3/3] END .....max_depth=3, n_estimators=100;, score=0.714 total time=   2.9s\n",
            "[CV 1/3] END .....max_depth=3, n_estimators=150;, score=0.716 total time=   6.2s\n",
            "[CV 2/3] END .....max_depth=3, n_estimators=150;, score=0.718 total time=   4.1s\n",
            "[CV 3/3] END .....max_depth=3, n_estimators=150;, score=0.720 total time=   4.1s\n",
            "[CV 1/3] END ......max_depth=5, n_estimators=50;, score=0.718 total time=   3.7s\n",
            "[CV 2/3] END ......max_depth=5, n_estimators=50;, score=0.721 total time=   2.9s\n",
            "[CV 3/3] END ......max_depth=5, n_estimators=50;, score=0.719 total time=   2.1s\n",
            "[CV 1/3] END .....max_depth=5, n_estimators=100;, score=0.727 total time=   3.7s\n",
            "[CV 2/3] END .....max_depth=5, n_estimators=100;, score=0.734 total time=   4.4s\n",
            "[CV 3/3] END .....max_depth=5, n_estimators=100;, score=0.730 total time=   5.1s\n",
            "[CV 1/3] END .....max_depth=5, n_estimators=150;, score=0.735 total time=   5.2s\n",
            "[CV 2/3] END .....max_depth=5, n_estimators=150;, score=0.736 total time=   7.4s\n",
            "[CV 3/3] END .....max_depth=5, n_estimators=150;, score=0.735 total time=   5.2s\n",
            "[CV 1/3] END ......max_depth=7, n_estimators=50;, score=0.736 total time=   3.0s\n",
            "[CV 2/3] END ......max_depth=7, n_estimators=50;, score=0.735 total time=   4.3s\n",
            "[CV 3/3] END ......max_depth=7, n_estimators=50;, score=0.734 total time=   3.7s\n",
            "[CV 1/3] END .....max_depth=7, n_estimators=100;, score=0.749 total time=   5.2s\n",
            "[CV 2/3] END .....max_depth=7, n_estimators=100;, score=0.751 total time=   7.3s\n",
            "[CV 3/3] END .....max_depth=7, n_estimators=100;, score=0.746 total time=   5.2s\n",
            "[CV 1/3] END .....max_depth=7, n_estimators=150;, score=0.759 total time=   9.6s\n",
            "[CV 2/3] END .....max_depth=7, n_estimators=150;, score=0.759 total time=   7.5s\n",
            "[CV 3/3] END .....max_depth=7, n_estimators=150;, score=0.757 total time=   9.7s\n",
            "CatBoost Accuracy: 0.77105\n",
            "\n",
            "Best Classifier: XGBClassifier(base_score=None, booster=None, callbacks=None,\n",
            "              colsample_bylevel=None, colsample_bynode=None,\n",
            "              colsample_bytree=None, early_stopping_rounds=None,\n",
            "              enable_categorical=False, eval_metric=None, feature_types=None,\n",
            "              gamma=None, gpu_id=None, grow_policy=None, importance_type=None,\n",
            "              interaction_constraints=None, learning_rate=None, max_bin=None,\n",
            "              max_cat_threshold=None, max_cat_to_onehot=None,\n",
            "              max_delta_step=None, max_depth=7, max_leaves=None,\n",
            "              min_child_weight=None, missing=nan, monotone_constraints=None,\n",
            "              n_estimators=150, n_jobs=None, num_parallel_tree=None,\n",
            "              objective='multi:softprob', predictor=None, ...)\n",
            "Best Accuracy: 0.80135\n"
          ]
        },
        {
          "data": {
            "text/plain": [
              "['best_model.joblib']"
            ]
          },
          "metadata": {},
          "output_type": "display_data"
        }
      ],
      "source": [
        "from sklearn.model_selection import train_test_split, GridSearchCV\n",
        "from sklearn.tree import DecisionTreeClassifier\n",
        "from sklearn.ensemble import RandomForestClassifier, ExtraTreesClassifier, BaggingClassifier, AdaBoostClassifier, GradientBoostingClassifier\n",
        "from xgboost import XGBClassifier\n",
        "from lightgbm import LGBMClassifier\n",
        "\n",
        "from sklearn.svm import SVC\n",
        "from sklearn.neighbors import KNeighborsClassifier\n",
        "from sklearn.linear_model import LogisticRegression\n",
        "from sklearn.metrics import accuracy_score\n",
        "from joblib import dump\n",
        "\n",
        "\n",
        "\n",
        "# Define the classifiers with hyperparameters\n",
        "classifiers = [\n",
        "\n",
        "    (\"XGBoost\", XGBClassifier(random_state=42), {'n_estimators': [50, 100, 150], 'max_depth': [3, 5, 7]}),\n",
        "    (\"LightGBM\", LGBMClassifier(random_state=42), {'n_estimators': [50, 100, 150], 'max_depth': [3, 5, 7]}),\n",
        "    (\"CatBoost\", CatBoostClassifier(random_state=42, verbose=False), {'n_estimators': [50, 100, 150], 'max_depth': [3, 5, 7]}),\n",
        "\n",
        "]\n",
        "\n",
        "# Train and evaluate each classifier using GridSearchCV\n",
        "best_accuracy = 0.0\n",
        "best_classifier = None\n",
        "\n",
        "for name, classifier, params in classifiers:\n",
        "    clf = GridSearchCV(classifier, params, cv=3,verbose=3)\n",
        "    clf.fit(X_train, y_train)\n",
        "    y_pred = clf.predict(X_test)\n",
        "    accuracy = accuracy_score(y_test, y_pred)\n",
        "    print(f\"{name} Accuracy: {accuracy}\")\n",
        "    \n",
        "    if accuracy > best_accuracy:\n",
        "        best_accuracy = accuracy\n",
        "        best_classifier = clf\n",
        "\n",
        "print(\"\\nBest Classifier:\", best_classifier.best_estimator_)\n",
        "print(\"Best Accuracy:\", best_accuracy)\n",
        "\n",
        "# Save the best model\n",
        "dump(best_classifier.best_estimator_, 'best_model.joblib')\n"
      ]
    },
    {
      "cell_type": "code",
      "source": [
        "from sklearn.ensemble import GradientBoostingClassifier\n",
        "classifiers = [\n",
        "\n",
        "(\"Gradient Boosting\", GradientBoostingClassifier(random_state=42), {'n_estimators': [150], 'max_depth': [7]}),\n",
        "\n",
        "]\n",
        "\n",
        "# Train and evaluate each classifier using GridSearchCV\n",
        "best_accuracy = 0.0\n",
        "best_classifier = None\n",
        "\n",
        "for name, classifier, params in classifiers:\n",
        "    clf = GridSearchCV(classifier, params, cv=3,verbose=3)\n",
        "    clf.fit(X_train, y_train)\n",
        "    y_pred = clf.predict(X_test)\n",
        "    accuracy = accuracy_score(y_test, y_pred)\n",
        "    print(f\"{name} Accuracy: {accuracy}\")\n",
        "    \n",
        "    if accuracy > best_accuracy:\n",
        "        best_accuracy = accuracy\n",
        "        best_classifier = clf\n",
        "\n",
        "print(\"\\nBest Classifier:\", best_classifier.best_estimator_)\n",
        "print(\"Best Accuracy:\", best_accuracy)\n"
      ],
      "metadata": {
        "colab": {
          "base_uri": "https://localhost:8080/"
        },
        "id": "5abQ_b5yghZC",
        "outputId": "0b970310-f40d-4965-e5fd-7a5ddd2dac0a"
      },
      "execution_count": 64,
      "outputs": [
        {
          "output_type": "stream",
          "name": "stdout",
          "text": [
            "Fitting 3 folds for each of 1 candidates, totalling 3 fits\n",
            "[CV 1/3] END .....max_depth=7, n_estimators=150;, score=0.774 total time= 4.5min\n",
            "[CV 2/3] END .....max_depth=7, n_estimators=150;, score=0.782 total time= 4.5min\n",
            "[CV 3/3] END .....max_depth=7, n_estimators=150;, score=0.775 total time= 4.3min\n",
            "Gradient Boosting Accuracy: 0.78375\n",
            "\n",
            "Best Classifier: GradientBoostingClassifier(max_depth=7, n_estimators=150, random_state=42)\n",
            "Best Accuracy: 0.78375\n"
          ]
        }
      ]
    },
    {
      "cell_type": "code",
      "source": [
        "!gdown 1luABu31OC5VaIm8_AoZ2rzx8wOH98h_n\n",
        "!gdown 11cG7eblvLr1H3r1eA9UyRnbZMGAzXZjf\n"
      ],
      "metadata": {
        "colab": {
          "base_uri": "https://localhost:8080/"
        },
        "id": "Nebw81fyeXW9",
        "outputId": "1358a4c8-e62e-4f1a-8101-686e9458298e"
      },
      "execution_count": 44,
      "outputs": [
        {
          "output_type": "stream",
          "name": "stdout",
          "text": [
            "Downloading...\n",
            "From: https://drive.google.com/uc?id=1luABu31OC5VaIm8_AoZ2rzx8wOH98h_n\n",
            "To: /content/gradient_boosting.joblib\n",
            "100% 8.39M/8.39M [00:00<00:00, 19.3MB/s]\n",
            "Downloading...\n",
            "From: https://drive.google.com/uc?id=11cG7eblvLr1H3r1eA9UyRnbZMGAzXZjf\n",
            "To: /content/RandomForest.joblib\n",
            "100% 115M/115M [00:04<00:00, 25.7MB/s] \n",
            "/bin/bash: gdwon: command not found\n"
          ]
        }
      ]
    },
    {
      "cell_type": "code",
      "source": [
        "!gdown 1KYY0OWIBq74dw3J0rtNsrjtEGr3Jcp4N"
      ],
      "metadata": {
        "colab": {
          "base_uri": "https://localhost:8080/"
        },
        "id": "T6G_B1QdesPQ",
        "outputId": "4a13304d-5923-4e2f-c2a6-b767b5eb538b"
      },
      "execution_count": 45,
      "outputs": [
        {
          "output_type": "stream",
          "name": "stdout",
          "text": [
            "Downloading...\n",
            "From: https://drive.google.com/uc?id=1KYY0OWIBq74dw3J0rtNsrjtEGr3Jcp4N\n",
            "To: /content/XGBOOST.joblib\n",
            "\r  0% 0.00/2.68M [00:00<?, ?B/s]\r100% 2.68M/2.68M [00:00<00:00, 156MB/s]\n"
          ]
        }
      ]
    },
    {
      "cell_type": "code",
      "source": [
        "import joblib\n",
        "RF=joblib.load(\"RandomForest.joblib\")\n",
        "\n",
        "XGB=joblib.load(\"XGBOOST.joblib\")\n",
        "\n",
        "GB=joblib.load(\"gradient_boosting.joblib\")\n",
        "\n",
        "stack=[RF,XGB,GB]\n",
        "\n",
        "predictions=np.array([model.predict(X_train) for model in stack]).T\n",
        "\n",
        "from sklearn.neighbors import KNeighborsClassifier\n",
        "lg=KNeighborsClassifier()\n",
        "lg.fit(predictions,y_train)"
      ],
      "metadata": {
        "colab": {
          "base_uri": "https://localhost:8080/",
          "height": 75
        },
        "id": "DCgImMjoeyU_",
        "outputId": "29e7dea8-7671-43fd-b86a-0973b5cb1dc0"
      },
      "execution_count": 62,
      "outputs": [
        {
          "output_type": "execute_result",
          "data": {
            "text/plain": [
              "KNeighborsClassifier()"
            ],
            "text/html": [
              "<style>#sk-container-id-5 {color: black;background-color: white;}#sk-container-id-5 pre{padding: 0;}#sk-container-id-5 div.sk-toggleable {background-color: white;}#sk-container-id-5 label.sk-toggleable__label {cursor: pointer;display: block;width: 100%;margin-bottom: 0;padding: 0.3em;box-sizing: border-box;text-align: center;}#sk-container-id-5 label.sk-toggleable__label-arrow:before {content: \"▸\";float: left;margin-right: 0.25em;color: #696969;}#sk-container-id-5 label.sk-toggleable__label-arrow:hover:before {color: black;}#sk-container-id-5 div.sk-estimator:hover label.sk-toggleable__label-arrow:before {color: black;}#sk-container-id-5 div.sk-toggleable__content {max-height: 0;max-width: 0;overflow: hidden;text-align: left;background-color: #f0f8ff;}#sk-container-id-5 div.sk-toggleable__content pre {margin: 0.2em;color: black;border-radius: 0.25em;background-color: #f0f8ff;}#sk-container-id-5 input.sk-toggleable__control:checked~div.sk-toggleable__content {max-height: 200px;max-width: 100%;overflow: auto;}#sk-container-id-5 input.sk-toggleable__control:checked~label.sk-toggleable__label-arrow:before {content: \"▾\";}#sk-container-id-5 div.sk-estimator input.sk-toggleable__control:checked~label.sk-toggleable__label {background-color: #d4ebff;}#sk-container-id-5 div.sk-label input.sk-toggleable__control:checked~label.sk-toggleable__label {background-color: #d4ebff;}#sk-container-id-5 input.sk-hidden--visually {border: 0;clip: rect(1px 1px 1px 1px);clip: rect(1px, 1px, 1px, 1px);height: 1px;margin: -1px;overflow: hidden;padding: 0;position: absolute;width: 1px;}#sk-container-id-5 div.sk-estimator {font-family: monospace;background-color: #f0f8ff;border: 1px dotted black;border-radius: 0.25em;box-sizing: border-box;margin-bottom: 0.5em;}#sk-container-id-5 div.sk-estimator:hover {background-color: #d4ebff;}#sk-container-id-5 div.sk-parallel-item::after {content: \"\";width: 100%;border-bottom: 1px solid gray;flex-grow: 1;}#sk-container-id-5 div.sk-label:hover label.sk-toggleable__label {background-color: #d4ebff;}#sk-container-id-5 div.sk-serial::before {content: \"\";position: absolute;border-left: 1px solid gray;box-sizing: border-box;top: 0;bottom: 0;left: 50%;z-index: 0;}#sk-container-id-5 div.sk-serial {display: flex;flex-direction: column;align-items: center;background-color: white;padding-right: 0.2em;padding-left: 0.2em;position: relative;}#sk-container-id-5 div.sk-item {position: relative;z-index: 1;}#sk-container-id-5 div.sk-parallel {display: flex;align-items: stretch;justify-content: center;background-color: white;position: relative;}#sk-container-id-5 div.sk-item::before, #sk-container-id-5 div.sk-parallel-item::before {content: \"\";position: absolute;border-left: 1px solid gray;box-sizing: border-box;top: 0;bottom: 0;left: 50%;z-index: -1;}#sk-container-id-5 div.sk-parallel-item {display: flex;flex-direction: column;z-index: 1;position: relative;background-color: white;}#sk-container-id-5 div.sk-parallel-item:first-child::after {align-self: flex-end;width: 50%;}#sk-container-id-5 div.sk-parallel-item:last-child::after {align-self: flex-start;width: 50%;}#sk-container-id-5 div.sk-parallel-item:only-child::after {width: 0;}#sk-container-id-5 div.sk-dashed-wrapped {border: 1px dashed gray;margin: 0 0.4em 0.5em 0.4em;box-sizing: border-box;padding-bottom: 0.4em;background-color: white;}#sk-container-id-5 div.sk-label label {font-family: monospace;font-weight: bold;display: inline-block;line-height: 1.2em;}#sk-container-id-5 div.sk-label-container {text-align: center;}#sk-container-id-5 div.sk-container {/* jupyter's `normalize.less` sets `[hidden] { display: none; }` but bootstrap.min.css set `[hidden] { display: none !important; }` so we also need the `!important` here to be able to override the default hidden behavior on the sphinx rendered scikit-learn.org. See: https://github.com/scikit-learn/scikit-learn/issues/21755 */display: inline-block !important;position: relative;}#sk-container-id-5 div.sk-text-repr-fallback {display: none;}</style><div id=\"sk-container-id-5\" class=\"sk-top-container\"><div class=\"sk-text-repr-fallback\"><pre>KNeighborsClassifier()</pre><b>In a Jupyter environment, please rerun this cell to show the HTML representation or trust the notebook. <br />On GitHub, the HTML representation is unable to render, please try loading this page with nbviewer.org.</b></div><div class=\"sk-container\" hidden><div class=\"sk-item\"><div class=\"sk-estimator sk-toggleable\"><input class=\"sk-toggleable__control sk-hidden--visually\" id=\"sk-estimator-id-5\" type=\"checkbox\" checked><label for=\"sk-estimator-id-5\" class=\"sk-toggleable__label sk-toggleable__label-arrow\">KNeighborsClassifier</label><div class=\"sk-toggleable__content\"><pre>KNeighborsClassifier()</pre></div></div></div></div></div>"
            ]
          },
          "metadata": {},
          "execution_count": 62
        }
      ]
    },
    {
      "cell_type": "code",
      "source": [
        "predictions=np.array([model.predict(X_test) for model in stack]).T\n",
        "y_pred=lg.predict(predictions)\n",
        "from sklearn.metrics import accuracy_score\n",
        "accuracy_score(y_pred,y_test)"
      ],
      "metadata": {
        "colab": {
          "base_uri": "https://localhost:8080/"
        },
        "id": "y22BdOxNe_8U",
        "outputId": "f15a361d-0897-4bdf-da57-0e0fbd017015"
      },
      "execution_count": 63,
      "outputs": [
        {
          "output_type": "execute_result",
          "data": {
            "text/plain": [
              "0.8183"
            ]
          },
          "metadata": {},
          "execution_count": 63
        }
      ]
    },
    {
      "cell_type": "code",
      "source": [],
      "metadata": {
        "id": "z41kfv9ngptv"
      },
      "execution_count": null,
      "outputs": []
    }
  ],
  "metadata": {
    "colab": {
      "provenance": []
    },
    "kernelspec": {
      "display_name": "Python 3 (ipykernel)",
      "language": "python",
      "name": "python3"
    },
    "language_info": {
      "codemirror_mode": {
        "name": "ipython",
        "version": 3
      },
      "file_extension": ".py",
      "mimetype": "text/x-python",
      "name": "python",
      "nbconvert_exporter": "python",
      "pygments_lexer": "ipython3",
      "version": "3.9.12"
    }
  },
  "nbformat": 4,
  "nbformat_minor": 0
}